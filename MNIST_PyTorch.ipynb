{
  "nbformat": 4,
  "nbformat_minor": 0,
  "metadata": {
    "colab": {
      "provenance": [],
      "authorship_tag": "ABX9TyN+4GT7AkKc9JVt3WC+9auF",
      "include_colab_link": true
    },
    "kernelspec": {
      "name": "python3",
      "display_name": "Python 3"
    },
    "language_info": {
      "name": "python"
    }
  },
  "cells": [
    {
      "cell_type": "markdown",
      "metadata": {
        "id": "view-in-github",
        "colab_type": "text"
      },
      "source": [
        "<a href=\"https://colab.research.google.com/github/imshiv-10/Deep-Learning/blob/main/MNIST_PyTorch.ipynb\" target=\"_parent\"><img src=\"https://colab.research.google.com/assets/colab-badge.svg\" alt=\"Open In Colab\"/></a>"
      ]
    },
    {
      "cell_type": "markdown",
      "source": [
        "## Working with Images\n",
        "\n",
        "In this tutorial, we'll use our existing knowledge of PyTorch and linear regression to solve a very different kind of problem: *image classification*. We'll use the famous [*MNIST Handwritten Digits Database*](http://yann.lecun.com/exdb/mnist/) as our training dataset. It consists of 28px by 28px grayscale images of handwritten digits (0 to 9) and labels for each image indicating which digit it represents. Here are some sample images from the dataset:\n",
        "\n",
        "![mnist-sample](https://i.imgur.com/CAYnuo1.jpg)"
      ],
      "metadata": {
        "id": "84E8QiknvPUX"
      }
    },
    {
      "cell_type": "markdown",
      "source": [
        "We begin by installing and importing torch and torchvision. torchvision contains some utilities for working with image data. It also provides helper classes to download and import popular datasets like MNIST automatically"
      ],
      "metadata": {
        "id": "XdKfYA74vjai"
      }
    },
    {
      "cell_type": "code",
      "execution_count": 163,
      "metadata": {
        "id": "fI3wlS9TujUQ"
      },
      "outputs": [],
      "source": [
        "import torch\n",
        "import torchvision\n",
        "from torchvision.datasets import MNIST"
      ]
    },
    {
      "cell_type": "code",
      "source": [
        "dataset = MNIST(root='./data', download=True)"
      ],
      "metadata": {
        "id": "WTApgn_NvuK0"
      },
      "execution_count": 164,
      "outputs": []
    },
    {
      "cell_type": "markdown",
      "source": [
        "en this statement is executed for the first time, it downloads the data to the data/ directory next to the notebook and creates a PyTorch Dataset. On subsequent executions, the download is skipped as the data is already downloaded. Let's check the size of the dataset."
      ],
      "metadata": {
        "id": "GqOQDivCwcWb"
      }
    },
    {
      "cell_type": "code",
      "source": [
        "len(dataset)"
      ],
      "metadata": {
        "colab": {
          "base_uri": "https://localhost:8080/"
        },
        "id": "QZYHIM0twKKv",
        "outputId": "3f0fa04b-e2df-47f6-ed60-329357c2436e"
      },
      "execution_count": 165,
      "outputs": [
        {
          "output_type": "execute_result",
          "data": {
            "text/plain": [
              "60000"
            ]
          },
          "metadata": {},
          "execution_count": 165
        }
      ]
    },
    {
      "cell_type": "markdown",
      "source": [
        "The dataset has 60,000 images that we'll use to train the model. There is also an additional test set of 10,000 images used for evaluating models and reporting metrics in papers and reports. We can create the test dataset using the MNIST class by passing train=False to the constructor."
      ],
      "metadata": {
        "id": "bIEiWwtUwkXg"
      }
    },
    {
      "cell_type": "code",
      "source": [
        "test_dataset = MNIST(root='./data', train=False)"
      ],
      "metadata": {
        "id": "Z5CRrSoGwQ5a"
      },
      "execution_count": 166,
      "outputs": []
    },
    {
      "cell_type": "code",
      "source": [
        "len(test_dataset)"
      ],
      "metadata": {
        "colab": {
          "base_uri": "https://localhost:8080/"
        },
        "id": "Ct2jFbe5wxOB",
        "outputId": "4d6233ff-c8f5-45bd-badb-3aa573bccdeb"
      },
      "execution_count": 167,
      "outputs": [
        {
          "output_type": "execute_result",
          "data": {
            "text/plain": [
              "10000"
            ]
          },
          "metadata": {},
          "execution_count": 167
        }
      ]
    },
    {
      "cell_type": "code",
      "source": [
        "dataset[0]"
      ],
      "metadata": {
        "colab": {
          "base_uri": "https://localhost:8080/"
        },
        "id": "ojwwkR4uwy1p",
        "outputId": "29c3cf89-5848-4dd0-f313-00116cad4879"
      },
      "execution_count": 168,
      "outputs": [
        {
          "output_type": "execute_result",
          "data": {
            "text/plain": [
              "(<PIL.Image.Image image mode=L size=28x28 at 0x7F6711094340>, 5)"
            ]
          },
          "metadata": {},
          "execution_count": 168
        }
      ]
    },
    {
      "cell_type": "code",
      "source": [
        "from PIL.Image import Image"
      ],
      "metadata": {
        "id": "M3Etb4Kqw2Sb"
      },
      "execution_count": 169,
      "outputs": []
    },
    {
      "cell_type": "code",
      "source": [
        "Image.show(dataset[0][0]), dataset[0][1]"
      ],
      "metadata": {
        "colab": {
          "base_uri": "https://localhost:8080/",
          "height": 63
        },
        "id": "v0gsgRhYw9dU",
        "outputId": "2ea3b108-a9e1-47a4-a220-5b78ce266211"
      },
      "execution_count": 170,
      "outputs": [
        {
          "output_type": "display_data",
          "data": {
            "text/plain": [
              "<PIL.Image.Image image mode=L size=28x28 at 0x7F66FDE76DC0>"
            ],
            "image/png": "[encoded data removed]"
          },
          "metadata": {}
        },
        {
          "output_type": "execute_result",
          "data": {
            "text/plain": [
              "(None, 5)"
            ]
          },
          "metadata": {},
          "execution_count": 170
        }
      ]
    },
    {
      "cell_type": "code",
      "source": [
        "import matplotlib\n",
        "import matplotlib.pyplot as plt\n",
        "%matplotlib inline"
      ],
      "metadata": {
        "id": "jjtU7585xqwE"
      },
      "execution_count": 171,
      "outputs": []
    },
    {
      "cell_type": "code",
      "source": [
        "image, label = dataset[0]\n",
        "plt.imshow(image, cmap='gray')\n",
        "print('label : ',label)"
      ],
      "metadata": {
        "colab": {
          "base_uri": "https://localhost:8080/",
          "height": 283
        },
        "id": "qkoGNAxeyU2L",
        "outputId": "fbab9c0c-9c68-40f7-c9b0-46c51c4ddba2"
      },
      "execution_count": 172,
      "outputs": [
        {
          "output_type": "stream",
          "name": "stdout",
          "text": [
            "label :  5\n"
          ]
        },
        {
          "output_type": "display_data",
          "data": {
            "text/plain": [
              "<Figure size 432x288 with 1 Axes>"
            ],
            "image/png": "[encoded data removed]"
          },
          "metadata": {
            "needs_background": "light"
          }
        }
      ]
    },
    {
      "cell_type": "code",
      "source": [
        "len(dataset)"
      ],
      "metadata": {
        "colab": {
          "base_uri": "https://localhost:8080/"
        },
        "id": "sdk0FU41ybR2",
        "outputId": "14752e73-9101-4d51-a007-6b1ebce6bec4"
      },
      "execution_count": 173,
      "outputs": [
        {
          "output_type": "execute_result",
          "data": {
            "text/plain": [
              "60000"
            ]
          },
          "metadata": {},
          "execution_count": 173
        }
      ]
    },
    {
      "cell_type": "code",
      "source": [
        "image, label = dataset[389]\n",
        "plt.imshow(image, cmap='gray')\n",
        "print('label: ', label)"
      ],
      "metadata": {
        "colab": {
          "base_uri": "https://localhost:8080/",
          "height": 283
        },
        "id": "BwOWSq4ry_DW",
        "outputId": "02dcc15d-b79f-4eb5-d8ad-f9236e2b423f"
      },
      "execution_count": 174,
      "outputs": [
        {
          "output_type": "stream",
          "name": "stdout",
          "text": [
            "label:  9\n"
          ]
        },
        {
          "output_type": "display_data",
          "data": {
            "text/plain": [
              "<Figure size 432x288 with 1 Axes>"
            ],
            "image/png": "[encoded data removed]"
          },
          "metadata": {
            "needs_background": "light"
          }
        }
      ]
    },
    {
      "cell_type": "markdown",
      "source": [
        "It's evident that these images are relatively small in size, and recognizing the digits can sometimes be challenging even for the human eye. While it's useful to look at these images, there's just one problem here: PyTorch doesn't know how to work with images. We need to convert the images into tensors. We can do this by specifying a transform while creating our dataset."
      ],
      "metadata": {
        "id": "kYlEweztzz4J"
      }
    },
    {
      "cell_type": "code",
      "source": [
        "from torchvision.transforms import transforms"
      ],
      "metadata": {
        "id": "bRzVxG0dzqqX"
      },
      "execution_count": 175,
      "outputs": []
    },
    {
      "cell_type": "markdown",
      "source": [
        "PyTorch datasets allow us to specify one or more transformation functions that are applied to the images as they are loaded. The torchvision.transforms module contains many such predefined functions. We'll use the ToTensor transform to convert images into PyTorch tensors."
      ],
      "metadata": {
        "id": "vZVYnnX90Gag"
      }
    },
    {
      "cell_type": "code",
      "source": [
        "dataset = MNIST(root='./data', train=True, transform=transforms.ToTensor())"
      ],
      "metadata": {
        "id": "77bVhYZC0TXq"
      },
      "execution_count": 176,
      "outputs": []
    },
    {
      "cell_type": "code",
      "source": [
        "dataset"
      ],
      "metadata": {
        "colab": {
          "base_uri": "https://localhost:8080/"
        },
        "id": "WJZ5UIDp0zOh",
        "outputId": "790cfcb4-6123-4d4e-aadc-f5cf38ff1832"
      },
      "execution_count": 177,
      "outputs": [
        {
          "output_type": "execute_result",
          "data": {
            "text/plain": [
              "Dataset MNIST\n",
              "    Number of datapoints: 60000\n",
              "    Root location: ./data\n",
              "    Split: Train\n",
              "    StandardTransform\n",
              "Transform: ToTensor()"
            ]
          },
          "metadata": {},
          "execution_count": 177
        }
      ]
    },
    {
      "cell_type": "code",
      "source": [
        "img_tensor, label = dataset[0]\n",
        "print(img_tensor.shape, label)"
      ],
      "metadata": {
        "colab": {
          "base_uri": "https://localhost:8080/"
        },
        "id": "BJvB_zAX01AT",
        "outputId": "227ff743-9ad5-4498-c4fc-a605aac1dd42"
      },
      "execution_count": 178,
      "outputs": [
        {
          "output_type": "stream",
          "name": "stdout",
          "text": [
            "torch.Size([1, 28, 28]) 5\n"
          ]
        }
      ]
    },
    {
      "cell_type": "markdown",
      "source": [
        "The image is now converted to a 1x28x28 tensor. The first dimension tracks color channels. The second and third dimensions represent pixels along the height and width of the image, respectively. Since images in the MNIST dataset are grayscale, there's just one channel. Other datasets have images with color, in which case there are three channels: red, green, and blue (RGB)."
      ],
      "metadata": {
        "id": "GbK-iEYK12Td"
      }
    },
    {
      "cell_type": "code",
      "source": [
        "img_tensor.shape"
      ],
      "metadata": {
        "colab": {
          "base_uri": "https://localhost:8080/"
        },
        "id": "M9A8PPPA1K1s",
        "outputId": "c42a0ccb-d4da-4b10-b826-697a248981ad"
      },
      "execution_count": 179,
      "outputs": [
        {
          "output_type": "execute_result",
          "data": {
            "text/plain": [
              "torch.Size([1, 28, 28])"
            ]
          },
          "metadata": {},
          "execution_count": 179
        }
      ]
    },
    {
      "cell_type": "code",
      "source": [
        "print(img_tensor[0, 10:15,10:15])\n",
        "plt.imshow(img_tensor[0,10:15,10:15], cmap='gray')"
      ],
      "metadata": {
        "colab": {
          "base_uri": "https://localhost:8080/",
          "height": 374
        },
        "id": "hVsD7Rq31Udc",
        "outputId": "c31821c0-b112-421d-abf2-82925c13d738"
      },
      "execution_count": 180,
      "outputs": [
        {
          "output_type": "stream",
          "name": "stdout",
          "text": [
            "tensor([[0.0039, 0.6039, 0.9922, 0.3529, 0.0000],\n",
            "        [0.0000, 0.5451, 0.9922, 0.7451, 0.0078],\n",
            "        [0.0000, 0.0431, 0.7451, 0.9922, 0.2745],\n",
            "        [0.0000, 0.0000, 0.1373, 0.9451, 0.8824],\n",
            "        [0.0000, 0.0000, 0.0000, 0.3176, 0.9412]])\n"
          ]
        },
        {
          "output_type": "execute_result",
          "data": {
            "text/plain": [
              "<matplotlib.image.AxesImage at 0x7f66fe3104f0>"
            ]
          },
          "metadata": {},
          "execution_count": 180
        },
        {
          "output_type": "display_data",
          "data": {
            "text/plain": [
              "<Figure size 432x288 with 1 Axes>"
            ],
            "image/png": "[encoded data removed]"
          },
          "metadata": {
            "needs_background": "light"
          }
        }
      ]
    },
    {
      "cell_type": "markdown",
      "source": [
        "Note that we need to pass just the 28x28 matrix to plt.imshow, without a channel dimension. We also pass a color map (cmap=gray) to indicate that we want to see a grayscale image."
      ],
      "metadata": {
        "id": "BCpoT8Sd2SYR"
      }
    },
    {
      "cell_type": "markdown",
      "source": [
        "## Training and Validation Datasets\n",
        "\n",
        "While building real-world machine learning models, it is quite common to split the dataset into three parts:\n",
        "1. **Training set** - used to train the model, i.e., compute the loss and adjust the model's weights using gradient descent.\n",
        "2. **Validation set** - used to evaluate the model during training, adjust hyperparameters (learning rate, etc.), and pick the best version of the model.\n",
        "3. **Test set** - used to compare different models or approaches and report the model's final accuracy.\n",
        "In the MNIST dataset, there are 60,000 training images and 10,000 test images. The test set is standardized so that different researchers can report their models' results against the same collection of images.\n",
        "Since there's no predefined validation set, we must manually split the 60,000 images into training and validation datasets. Let's set aside 10,000 randomly chosen images for validation. We can do this using the random_spilt method from PyTorch."
      ],
      "metadata": {
        "id": "6cX7Mt2p2tPl"
      }
    },
    {
      "cell_type": "code",
      "source": [
        "from torch.utils.data import random_split\n",
        "\n",
        "train_ds, val_ds = random_split(dataset=dataset, lengths=[50000,10000])\n",
        "len(train_ds), len(val_ds)"
      ],
      "metadata": {
        "colab": {
          "base_uri": "https://localhost:8080/"
        },
        "id": "-HJV_z1M1_4E",
        "outputId": "6a58aa4c-c6de-44ff-a1cd-70a6787d31c9"
      },
      "execution_count": 181,
      "outputs": [
        {
          "output_type": "execute_result",
          "data": {
            "text/plain": [
              "(50000, 10000)"
            ]
          },
          "metadata": {},
          "execution_count": 181
        }
      ]
    },
    {
      "cell_type": "code",
      "source": [
        "def ImgShow(dataset):\n",
        "  img_tensor, label = dataset\n",
        "  plt.imshow(img_tensor[0,:,:], cmap='gray')\n",
        "  print('Label: ', label)"
      ],
      "metadata": {
        "id": "BQhRehE-3jCT"
      },
      "execution_count": 182,
      "outputs": []
    },
    {
      "cell_type": "code",
      "source": [
        "ImgShow(dataset[0])"
      ],
      "metadata": {
        "colab": {
          "base_uri": "https://localhost:8080/",
          "height": 283
        },
        "id": "pJFsUysN4Zjo",
        "outputId": "41c6d3c4-18dc-4777-a78b-8fe0bef29b25"
      },
      "execution_count": 183,
      "outputs": [
        {
          "output_type": "stream",
          "name": "stdout",
          "text": [
            "Label:  5\n"
          ]
        },
        {
          "output_type": "display_data",
          "data": {
            "text/plain": [
              "<Figure size 432x288 with 1 Axes>"
            ],
            "image/png": "[encoded data removed]"
          },
          "metadata": {
            "needs_background": "light"
          }
        }
      ]
    },
    {
      "cell_type": "code",
      "source": [
        "ImgShow(train_ds[0])"
      ],
      "metadata": {
        "colab": {
          "base_uri": "https://localhost:8080/",
          "height": 283
        },
        "id": "J1iUpwkk44r3",
        "outputId": "7f73450e-0b76-466d-a540-a2c95b8befec"
      },
      "execution_count": 184,
      "outputs": [
        {
          "output_type": "stream",
          "name": "stdout",
          "text": [
            "Label:  1\n"
          ]
        },
        {
          "output_type": "display_data",
          "data": {
            "text/plain": [
              "<Figure size 432x288 with 1 Axes>"
            ],
            "image/png": "[encoded data removed]"
          },
          "metadata": {
            "needs_background": "light"
          }
        }
      ]
    },
    {
      "cell_type": "code",
      "source": [
        "ImgShow(val_ds[0])"
      ],
      "metadata": {
        "colab": {
          "base_uri": "https://localhost:8080/",
          "height": 283
        },
        "id": "L9m3XkWZ5lIE",
        "outputId": "7014f358-bf5c-457f-e114-79eb399638e6"
      },
      "execution_count": 185,
      "outputs": [
        {
          "output_type": "stream",
          "name": "stdout",
          "text": [
            "Label:  1\n"
          ]
        },
        {
          "output_type": "display_data",
          "data": {
            "text/plain": [
              "<Figure size 432x288 with 1 Axes>"
            ],
            "image/png": "[encoded data removed]"
          },
          "metadata": {
            "needs_background": "light"
          }
        }
      ]
    },
    {
      "cell_type": "code",
      "source": [
        "import numpy as np\n",
        "for img in np.random.randint(100, size=10):\n",
        "  ImgShow(dataset[img])"
      ],
      "metadata": {
        "colab": {
          "base_uri": "https://localhost:8080/",
          "height": 447
        },
        "id": "f0bFwFMO5oCu",
        "outputId": "60e89eec-3e3b-41f7-faaf-0aa85c8831e8"
      },
      "execution_count": 186,
      "outputs": [
        {
          "output_type": "stream",
          "name": "stdout",
          "text": [
            "Label:  3\n",
            "Label:  0\n",
            "Label:  5\n",
            "Label:  8\n",
            "Label:  9\n",
            "Label:  9\n",
            "Label:  6\n",
            "Label:  3\n",
            "Label:  8\n",
            "Label:  3\n"
          ]
        },
        {
          "output_type": "display_data",
          "data": {
            "text/plain": [
              "<Figure size 432x288 with 1 Axes>"
            ],
            "image/png": "[encoded data removed]"
          },
          "metadata": {
            "needs_background": "light"
          }
        }
      ]
    },
    {
      "cell_type": "markdown",
      "source": [
        "It's essential to choose a random sample for creating a validation set. Training data is often sorted by the target labels, i.e., images of 0s, followed by 1s, followed by 2s, etc. If we create a validation set using the last 20% of images, it would only consist of 8s and 9s. In contrast, the training set would contain no 8s or 9s. Such a training-validation would make it impossible to train a useful model.\n",
        "We can now create data loaders to help us load the data in batches. We'll use a batch size of 128."
      ],
      "metadata": {
        "id": "rCI6p3hS7WRl"
      }
    },
    {
      "cell_type": "code",
      "source": [
        "from torch.utils.data import DataLoader, TensorDataset\n",
        "batch_size = 128 ## 50000/128 - around 390 images per batch\n",
        "train_loader = DataLoader(train_ds, batch_size=batch_size, shuffle=True)\n",
        "val_loader = DataLoader(val_ds, batch_size=batch_size,shuffle=True)"
      ],
      "metadata": {
        "id": "XXRJKlXn6Egf"
      },
      "execution_count": 187,
      "outputs": []
    },
    {
      "cell_type": "markdown",
      "source": [
        "We set shuffle=True for the training data loader to ensure that the batches generated in each epoch are different. This randomization helps generalize & speed up the training process. On the other hand, since the validation data loader is used only for evaluating the model, there is no need to shuffle the images."
      ],
      "metadata": {
        "id": "87Izta528ZYM"
      }
    },
    {
      "cell_type": "markdown",
      "source": [
        "# Model\n",
        "\n",
        "Now that we have prepared our data loaders, we can define our model.\n",
        "- A **logistic regression model** is almost identical to a linear regression model. It contains `weights` and `bias` matrices, and the output is obtained using simple matrix operations `(pred = x @ w.t() + b).`\n",
        "\n",
        "- As we did with linear regression, we can use **nn.Linear** to create the model instead of manually creating and initializing the matrices.\n",
        "Since nn.Linear expects each training example to be a vector, each `1x28x28` image tensor is flattened into a vector of size 784 (28*28) before being passed into the model.\n",
        "\n",
        "- The output for each image is a vector of size 10, with each element signifying the probability of a particular target label (i.e., 0 to 9). The predicted label for an image is simply the one with the highest probability.\n"
      ],
      "metadata": {
        "id": "C1A-0mMX8nm0"
      }
    },
    {
      "cell_type": "code",
      "source": [
        "import torch.nn as nn\n",
        "\n",
        "input_size = 28*28\n",
        "num_classes = 10\n",
        "\n",
        "# Logistic regresssion model\n",
        "model = nn.Linear(input_size, num_classes)"
      ],
      "metadata": {
        "id": "FVnmCoYv8SBe"
      },
      "execution_count": 188,
      "outputs": []
    },
    {
      "cell_type": "code",
      "source": [
        "model.weight.shape"
      ],
      "metadata": {
        "id": "iuzDeSY49grK",
        "outputId": "79986d59-6965-4c1a-aad8-03c2e7732b7b",
        "colab": {
          "base_uri": "https://localhost:8080/"
        }
      },
      "execution_count": 189,
      "outputs": [
        {
          "output_type": "execute_result",
          "data": {
            "text/plain": [
              "torch.Size([10, 784])"
            ]
          },
          "metadata": {},
          "execution_count": 189
        }
      ]
    },
    {
      "cell_type": "code",
      "source": [
        "model.bias"
      ],
      "metadata": {
        "id": "D7Wp5luf9is3",
        "colab": {
          "base_uri": "https://localhost:8080/"
        },
        "outputId": "60f6779a-5ad6-45d1-f9c0-04027f3a6a4f"
      },
      "execution_count": 190,
      "outputs": [
        {
          "output_type": "execute_result",
          "data": {
            "text/plain": [
              "Parameter containing:\n",
              "tensor([ 0.0105, -0.0289, -0.0237, -0.0065, -0.0152, -0.0183,  0.0156,  0.0334,\n",
              "        -0.0342, -0.0083], requires_grad=True)"
            ]
          },
          "metadata": {},
          "execution_count": 190
        }
      ]
    },
    {
      "cell_type": "markdown",
      "source": [
        "Of course, this model is a lot larger than our previous model in terms of the number of parameters. Let's take a look at the weights and biases."
      ],
      "metadata": {
        "id": "iNPtkAdhonnS"
      }
    },
    {
      "cell_type": "markdown",
      "source": [
        "Although there are a total of 7850 parameters here, conceptually, nothing has changed so far. Let's try and generate some outputs using our model. We'll take the first batch of 100 images from our dataset and pass them into our model."
      ],
      "metadata": {
        "id": "yHvHv5f3osPV"
      }
    },
    {
      "cell_type": "code",
      "source": [
        "for images, labels in train_loader:\n",
        "  print('labels:', labels)\n",
        "  print(images.shape)\n",
        "  outputs = model(images)\n",
        "  print(outputs)\n",
        "  break"
      ],
      "metadata": {
        "colab": {
          "base_uri": "https://localhost:8080/",
          "height": 521
        },
        "id": "tX47iGCLoN8J",
        "outputId": "85685c16-fa14-4184-c5e3-b2a9d7c7e56f"
      },
      "execution_count": 191,
      "outputs": [
        {
          "output_type": "stream",
          "name": "stdout",
          "text": [
            "labels: tensor([0, 9, 9, 9, 6, 9, 4, 5, 0, 3, 8, 7, 3, 5, 0, 8, 1, 0, 2, 8, 1, 0, 5, 9,\n",
            "        1, 3, 2, 5, 7, 6, 0, 6, 1, 8, 1, 1, 3, 0, 0, 9, 8, 3, 2, 4, 1, 2, 4, 2,\n",
            "        5, 2, 1, 9, 7, 6, 7, 4, 5, 5, 6, 5, 3, 7, 9, 9, 4, 6, 9, 5, 4, 4, 5, 2,\n",
            "        0, 4, 1, 0, 1, 7, 8, 2, 3, 9, 7, 4, 8, 8, 4, 9, 2, 3, 3, 1, 6, 2, 9, 1,\n",
            "        8, 2, 4, 5, 4, 9, 8, 4, 1, 9, 1, 6, 3, 2, 3, 1, 6, 9, 9, 6, 2, 1, 5, 7,\n",
            "        8, 2, 7, 3, 5, 9, 7, 3])\n",
            "torch.Size([128, 1, 28, 28])\n"
          ]
        },
        {
          "output_type": "error",
          "ename": "RuntimeError",
          "evalue": "ignored",
          "traceback": [
            "\u001b[0;31m---------------------------------------------------------------------------\u001b[0m",
            "\u001b[0;31mRuntimeError\u001b[0m                              Traceback (most recent call last)",
            "\u001b[0;32m<ipython-input-191-51d60d298d4d>\u001b[0m in \u001b[0;36m<module>\u001b[0;34m\u001b[0m\n\u001b[1;32m      2\u001b[0m   \u001b[0mprint\u001b[0m\u001b[0;34m(\u001b[0m\u001b[0;34m'labels:'\u001b[0m\u001b[0;34m,\u001b[0m \u001b[0mlabels\u001b[0m\u001b[0;34m)\u001b[0m\u001b[0;34m\u001b[0m\u001b[0;34m\u001b[0m\u001b[0m\n\u001b[1;32m      3\u001b[0m   \u001b[0mprint\u001b[0m\u001b[0;34m(\u001b[0m\u001b[0mimages\u001b[0m\u001b[0;34m.\u001b[0m\u001b[0mshape\u001b[0m\u001b[0;34m)\u001b[0m\u001b[0;34m\u001b[0m\u001b[0;34m\u001b[0m\u001b[0m\n\u001b[0;32m----> 4\u001b[0;31m   \u001b[0moutputs\u001b[0m \u001b[0;34m=\u001b[0m \u001b[0mmodel\u001b[0m\u001b[0;34m(\u001b[0m\u001b[0mimages\u001b[0m\u001b[0;34m)\u001b[0m\u001b[0;34m\u001b[0m\u001b[0;34m\u001b[0m\u001b[0m\n\u001b[0m\u001b[1;32m      5\u001b[0m   \u001b[0mprint\u001b[0m\u001b[0;34m(\u001b[0m\u001b[0moutputs\u001b[0m\u001b[0;34m)\u001b[0m\u001b[0;34m\u001b[0m\u001b[0;34m\u001b[0m\u001b[0m\n\u001b[1;32m      6\u001b[0m   \u001b[0;32mbreak\u001b[0m\u001b[0;34m\u001b[0m\u001b[0;34m\u001b[0m\u001b[0m\n",
            "\u001b[0;32m/usr/local/lib/python3.8/dist-packages/torch/nn/modules/module.py\u001b[0m in \u001b[0;36m_call_impl\u001b[0;34m(self, *input, **kwargs)\u001b[0m\n\u001b[1;32m   1192\u001b[0m         if not (self._backward_hooks or self._forward_hooks or self._forward_pre_hooks or _global_backward_hooks\n\u001b[1;32m   1193\u001b[0m                 or _global_forward_hooks or _global_forward_pre_hooks):\n\u001b[0;32m-> 1194\u001b[0;31m             \u001b[0;32mreturn\u001b[0m \u001b[0mforward_call\u001b[0m\u001b[0;34m(\u001b[0m\u001b[0;34m*\u001b[0m\u001b[0minput\u001b[0m\u001b[0;34m,\u001b[0m \u001b[0;34m**\u001b[0m\u001b[0mkwargs\u001b[0m\u001b[0;34m)\u001b[0m\u001b[0;34m\u001b[0m\u001b[0;34m\u001b[0m\u001b[0m\n\u001b[0m\u001b[1;32m   1195\u001b[0m         \u001b[0;31m# Do not call functions when jit is used\u001b[0m\u001b[0;34m\u001b[0m\u001b[0;34m\u001b[0m\u001b[0;34m\u001b[0m\u001b[0m\n\u001b[1;32m   1196\u001b[0m         \u001b[0mfull_backward_hooks\u001b[0m\u001b[0;34m,\u001b[0m \u001b[0mnon_full_backward_hooks\u001b[0m \u001b[0;34m=\u001b[0m \u001b[0;34m[\u001b[0m\u001b[0;34m]\u001b[0m\u001b[0;34m,\u001b[0m \u001b[0;34m[\u001b[0m\u001b[0;34m]\u001b[0m\u001b[0;34m\u001b[0m\u001b[0;34m\u001b[0m\u001b[0m\n",
            "\u001b[0;32m/usr/local/lib/python3.8/dist-packages/torch/nn/modules/linear.py\u001b[0m in \u001b[0;36mforward\u001b[0;34m(self, input)\u001b[0m\n\u001b[1;32m    112\u001b[0m \u001b[0;34m\u001b[0m\u001b[0m\n\u001b[1;32m    113\u001b[0m     \u001b[0;32mdef\u001b[0m \u001b[0mforward\u001b[0m\u001b[0;34m(\u001b[0m\u001b[0mself\u001b[0m\u001b[0;34m,\u001b[0m \u001b[0minput\u001b[0m\u001b[0;34m:\u001b[0m \u001b[0mTensor\u001b[0m\u001b[0;34m)\u001b[0m \u001b[0;34m->\u001b[0m \u001b[0mTensor\u001b[0m\u001b[0;34m:\u001b[0m\u001b[0;34m\u001b[0m\u001b[0;34m\u001b[0m\u001b[0m\n\u001b[0;32m--> 114\u001b[0;31m         \u001b[0;32mreturn\u001b[0m \u001b[0mF\u001b[0m\u001b[0;34m.\u001b[0m\u001b[0mlinear\u001b[0m\u001b[0;34m(\u001b[0m\u001b[0minput\u001b[0m\u001b[0;34m,\u001b[0m \u001b[0mself\u001b[0m\u001b[0;34m.\u001b[0m\u001b[0mweight\u001b[0m\u001b[0;34m,\u001b[0m \u001b[0mself\u001b[0m\u001b[0;34m.\u001b[0m\u001b[0mbias\u001b[0m\u001b[0;34m)\u001b[0m\u001b[0;34m\u001b[0m\u001b[0;34m\u001b[0m\u001b[0m\n\u001b[0m\u001b[1;32m    115\u001b[0m \u001b[0;34m\u001b[0m\u001b[0m\n\u001b[1;32m    116\u001b[0m     \u001b[0;32mdef\u001b[0m \u001b[0mextra_repr\u001b[0m\u001b[0;34m(\u001b[0m\u001b[0mself\u001b[0m\u001b[0;34m)\u001b[0m \u001b[0;34m->\u001b[0m \u001b[0mstr\u001b[0m\u001b[0;34m:\u001b[0m\u001b[0;34m\u001b[0m\u001b[0;34m\u001b[0m\u001b[0m\n",
            "\u001b[0;31mRuntimeError\u001b[0m: mat1 and mat2 shapes cannot be multiplied (3584x28 and 784x10)"
          ]
        }
      ]
    },
    {
      "cell_type": "code",
      "source": [
        "images.shape"
      ],
      "metadata": {
        "colab": {
          "base_uri": "https://localhost:8080/"
        },
        "id": "O1DJ0gq9qc7e",
        "outputId": "5b73e803-f06a-4fe4-b21d-296718760bf3"
      },
      "execution_count": 192,
      "outputs": [
        {
          "output_type": "execute_result",
          "data": {
            "text/plain": [
              "torch.Size([128, 1, 28, 28])"
            ]
          },
          "metadata": {},
          "execution_count": 192
        }
      ]
    },
    {
      "cell_type": "code",
      "source": [
        "images.reshape(128,784).shape"
      ],
      "metadata": {
        "colab": {
          "base_uri": "https://localhost:8080/"
        },
        "id": "pO9OWghVqloJ",
        "outputId": "a29c0e5a-98b0-49da-892a-e1387eca041d"
      },
      "execution_count": 193,
      "outputs": [
        {
          "output_type": "execute_result",
          "data": {
            "text/plain": [
              "torch.Size([128, 784])"
            ]
          },
          "metadata": {},
          "execution_count": 193
        }
      ]
    },
    {
      "cell_type": "code",
      "source": [
        "for images, labels in train_loader:\n",
        "    print(labels)\n",
        "    print(images.reshape(-1,784))\n",
        "    outputs = model(images.reshape(-1,784))\n",
        "    print(outputs)\n",
        "    break"
      ],
      "metadata": {
        "colab": {
          "base_uri": "https://localhost:8080/"
        },
        "id": "hAUHEX4bvg8s",
        "outputId": "6e2ce5e4-6738-4603-b8e7-7e80dd65d215"
      },
      "execution_count": 194,
      "outputs": [
        {
          "output_type": "stream",
          "name": "stdout",
          "text": [
            "tensor([7, 7, 7, 2, 4, 7, 4, 5, 1, 5, 1, 4, 5, 1, 8, 5, 6, 8, 6, 0, 6, 6, 5, 5,\n",
            "        6, 1, 0, 7, 6, 4, 6, 1, 6, 0, 7, 1, 7, 5, 9, 0, 4, 2, 1, 7, 5, 0, 1, 0,\n",
            "        1, 0, 3, 2, 2, 1, 7, 1, 7, 8, 3, 3, 5, 0, 8, 6, 7, 1, 3, 5, 1, 7, 2, 4,\n",
            "        7, 5, 8, 1, 4, 1, 9, 9, 7, 4, 7, 6, 2, 4, 1, 1, 8, 9, 8, 9, 4, 3, 8, 5,\n",
            "        2, 5, 4, 8, 9, 0, 8, 6, 3, 8, 1, 5, 6, 4, 2, 7, 9, 3, 9, 5, 1, 2, 1, 5,\n",
            "        0, 1, 5, 4, 3, 7, 5, 1])\n",
            "tensor([[0., 0., 0.,  ..., 0., 0., 0.],\n",
            "        [0., 0., 0.,  ..., 0., 0., 0.],\n",
            "        [0., 0., 0.,  ..., 0., 0., 0.],\n",
            "        ...,\n",
            "        [0., 0., 0.,  ..., 0., 0., 0.],\n",
            "        [0., 0., 0.,  ..., 0., 0., 0.],\n",
            "        [0., 0., 0.,  ..., 0., 0., 0.]])\n",
            "tensor([[-0.1664, -0.1894, -0.0738,  ..., -0.1591, -0.1030, -0.0023],\n",
            "        [-0.1275,  0.1043, -0.1657,  ...,  0.1117, -0.0838,  0.1345],\n",
            "        [ 0.1925, -0.0608, -0.1652,  ...,  0.1258,  0.0259,  0.0568],\n",
            "        ...,\n",
            "        [-0.0673, -0.0211, -0.1823,  ...,  0.0688, -0.2779, -0.0660],\n",
            "        [ 0.1472, -0.1439, -0.0775,  ...,  0.1331, -0.1799,  0.1499],\n",
            "        [ 0.0771, -0.0911, -0.1137,  ...,  0.0277,  0.0448,  0.1072]],\n",
            "       grad_fn=<AddmmBackward0>)\n"
          ]
        }
      ]
    },
    {
      "cell_type": "markdown",
      "source": [
        "The code above leads to an error because our input data does not have the right shape. Our images are of the shape 1x28x28, but we need them to be vectors of size 784, i.e., we need to flatten them. We'll use the .reshape method of a tensor, which will allow us to efficiently 'view' each image as a flat vector without really creating a copy of the underlying data. To include this additional functionality within our model, we need to define a custom model by extending the nn.Module class from PyTorch.\n",
        "A class in Python provides a \"blueprint\" for creating objects. Let's look at an example of defining a new class in Python."
      ],
      "metadata": {
        "id": "9tnLxQ6Jr8sx"
      }
    },
    {
      "cell_type": "code",
      "source": [
        "class Person:\n",
        "  # class constructor\n",
        "  def __init__(self,name, age):\n",
        "    # object parameters\n",
        "    self.name = name\n",
        "    self.age = age\n",
        "\n",
        "  # method\n",
        "  def inside_classMethod(self):\n",
        "    print('''heyy buddie u are now inside classs!\\n \n",
        "    Welcome to the PyTorch Demon....''', {self.name})  "
      ],
      "metadata": {
        "id": "VBqDvtolreRU"
      },
      "execution_count": 195,
      "outputs": []
    },
    {
      "cell_type": "code",
      "source": [
        "shiv = Person('shiva', 27)"
      ],
      "metadata": {
        "id": "45sUh1Lpsm_L"
      },
      "execution_count": 196,
      "outputs": []
    },
    {
      "cell_type": "code",
      "source": [
        "shiv.age, shiv.name, shiv.inside_classMethod()"
      ],
      "metadata": {
        "colab": {
          "base_uri": "https://localhost:8080/"
        },
        "id": "07G9ovYVsxAX",
        "outputId": "7a82cd79-baad-4f52-ef15-01a4f6ef2d12"
      },
      "execution_count": 197,
      "outputs": [
        {
          "output_type": "stream",
          "name": "stdout",
          "text": [
            "heyy buddie u are now inside classs!\n",
            " \n",
            "    Welcome to the PyTorch Demon.... {'shiva'}\n"
          ]
        },
        {
          "output_type": "execute_result",
          "data": {
            "text/plain": [
              "(27, 'shiva', None)"
            ]
          },
          "metadata": {},
          "execution_count": 197
        }
      ]
    },
    {
      "cell_type": "markdown",
      "source": [
        "Classes can also build upon or extend the functionality of existing classes. Let's extend the nn.Module class from PyTorch to define a custom model."
      ],
      "metadata": {
        "id": "HuXYqgaitm-5"
      }
    },
    {
      "cell_type": "code",
      "source": [
        "import torch.nn\n",
        "\n",
        "# define linear extended class \n",
        "class MnistModule(nn.Module):\n",
        "  #Intializing the constructor method\n",
        "  def __init__(self) -> None:\n",
        "    # calling nn.module classes and methods\n",
        "    super().__init__()\n",
        "    self.linear = nn.Linear(input_size, num_classes)\n",
        "\n",
        "  # initializing the forward defination\n",
        "  def forward(self, xb):\n",
        "    xb = xb.reshape(-1,784)\n",
        "    out = self.linear(xb)\n",
        "    return out\n",
        "model = MnistModule()    \n"
      ],
      "metadata": {
        "id": "IbNYCLl2tJUs"
      },
      "execution_count": 198,
      "outputs": []
    },
    {
      "cell_type": "markdown",
      "source": [
        "Inside the __init__ constructor method, we instantiate the weights and biases using nn.Linear. And inside the forward method, which is invoked when we pass a batch of inputs to the model, we flatten the input tensor and pass it into self.linear.\n",
        "xb.reshape(-1, 28*28) indicates to PyTorch that we want a view of the xb tensor with two dimensions. The length along the 2nd dimension is 28*28 (i.e., 784). One argument to .reshape can be set to -1 (in this case, the first dimension) to let PyTorch figure it out automatically based on the shape of the original tensor.\n",
        "Note that the model no longer has .weight and .bias attributes (as they are now inside the .linear attribute), but it does have a .parameters method that returns a list containing the weights and bias."
      ],
      "metadata": {
        "id": "I5_M3FNpvNkK"
      }
    },
    {
      "cell_type": "code",
      "source": [
        "model.linear"
      ],
      "metadata": {
        "colab": {
          "base_uri": "https://localhost:8080/"
        },
        "id": "-U5eQLBHu2rM",
        "outputId": "0d20ffc6-fd3b-461e-9802-ae416a0ae184"
      },
      "execution_count": 201,
      "outputs": [
        {
          "output_type": "execute_result",
          "data": {
            "text/plain": [
              "Linear(in_features=784, out_features=10, bias=True)"
            ]
          },
          "metadata": {},
          "execution_count": 201
        }
      ]
    },
    {
      "cell_type": "code",
      "source": [
        "print(model.linear.parameters, model.linear.weight.shape, model.linear.bias.shape)"
      ],
      "metadata": {
        "colab": {
          "base_uri": "https://localhost:8080/"
        },
        "id": "5uCCAOx3yILK",
        "outputId": "2623d839-0399-4600-c0ae-8bcb53976103"
      },
      "execution_count": 202,
      "outputs": [
        {
          "output_type": "stream",
          "name": "stdout",
          "text": [
            "<bound method Module.parameters of Linear(in_features=784, out_features=10, bias=True)> torch.Size([10, 784]) torch.Size([10])\n"
          ]
        }
      ]
    },
    {
      "cell_type": "code",
      "source": [
        "list(model.parameters())"
      ],
      "metadata": {
        "colab": {
          "base_uri": "https://localhost:8080/"
        },
        "id": "C6JgUum9CO-g",
        "outputId": "0d6d8b6d-16e7-484d-ad93-570e018a6bf0"
      },
      "execution_count": 203,
      "outputs": [
        {
          "output_type": "execute_result",
          "data": {
            "text/plain": [
              "[Parameter containing:\n",
              " tensor([[-0.0354, -0.0270, -0.0066,  ...,  0.0212,  0.0069,  0.0330],\n",
              "         [-0.0278,  0.0203, -0.0042,  ...,  0.0257,  0.0125, -0.0182],\n",
              "         [-0.0292,  0.0338, -0.0323,  ...,  0.0256,  0.0177, -0.0196],\n",
              "         ...,\n",
              "         [ 0.0306, -0.0012,  0.0210,  ..., -0.0204, -0.0236,  0.0019],\n",
              "         [ 0.0241,  0.0216, -0.0130,  ...,  0.0004,  0.0097, -0.0320],\n",
              "         [ 0.0102, -0.0083, -0.0042,  ..., -0.0336,  0.0211,  0.0317]],\n",
              "        requires_grad=True), Parameter containing:\n",
              " tensor([ 0.0209, -0.0084, -0.0247, -0.0065, -0.0004,  0.0283,  0.0323, -0.0007,\n",
              "         -0.0191,  0.0340], requires_grad=True)]"
            ]
          },
          "metadata": {},
          "execution_count": 203
        }
      ]
    },
    {
      "cell_type": "markdown",
      "source": [
        "We can use our new custom model in the same way as before. Let's see if it works."
      ],
      "metadata": {
        "id": "sBu58H1aCxX6"
      }
    },
    {
      "cell_type": "code",
      "source": [
        "for images, labels in train_loader:\n",
        "  print(images.shape)\n",
        "  outputs = model(images)\n",
        "  break\n",
        "\n",
        "print('output.shape:', outputs.shape)\n",
        "print('Sample outputs: \\n', outputs[:2].data)"
      ],
      "metadata": {
        "colab": {
          "base_uri": "https://localhost:8080/"
        },
        "id": "cIcB_ItJCsKU",
        "outputId": "fde68d04-12c6-4e3b-91bc-504a341a7a20"
      },
      "execution_count": 206,
      "outputs": [
        {
          "output_type": "stream",
          "name": "stdout",
          "text": [
            "torch.Size([128, 1, 28, 28])\n",
            "output.shape: torch.Size([128, 10])\n",
            "Sample outputs: \n",
            " tensor([[ 0.2230,  0.2580, -0.1762, -0.0653, -0.2529, -0.0262,  0.3520,  0.4744,\n",
            "          0.0227, -0.0560],\n",
            "        [ 0.1958,  0.0860, -0.1869, -0.0745, -0.1861, -0.0187,  0.2619,  0.3107,\n",
            "         -0.0758, -0.1444]])\n"
          ]
        }
      ]
    },
    {
      "cell_type": "code",
      "source": [
        "outputs"
      ],
      "metadata": {
        "colab": {
          "base_uri": "https://localhost:8080/"
        },
        "id": "90p_SBw9C957",
        "outputId": "a834c0dd-1cb4-450e-b5f3-199f41893aae"
      },
      "execution_count": 205,
      "outputs": [
        {
          "output_type": "execute_result",
          "data": {
            "text/plain": [
              "tensor([[ 0.3286, -0.2267,  0.2412,  ...,  0.2019, -0.1191, -0.2076],\n",
              "        [ 0.1542,  0.2186,  0.1028,  ...,  0.2024,  0.0355, -0.0710],\n",
              "        [ 0.3333,  0.1972,  0.2307,  ...,  0.3703, -0.0710,  0.0083],\n",
              "        ...,\n",
              "        [ 0.3872,  0.2406,  0.0581,  ...,  0.3367, -0.1247, -0.3083],\n",
              "        [ 0.2733, -0.1552, -0.0162,  ...,  0.4476,  0.0186, -0.1572],\n",
              "        [ 0.2960,  0.1545, -0.0988,  ...,  0.3276, -0.0127, -0.1869]],\n",
              "       grad_fn=<AddmmBackward0>)"
            ]
          },
          "metadata": {},
          "execution_count": 205
        }
      ]
    },
    {
      "cell_type": "markdown",
      "source": [
        "For each of the 100 input images, we get 10 outputs, one for each class. As discussed earlier, we'd like these outputs to represent probabilities. Each output row's elements must lie between 0 to 1 and add up to 1, which is not the case.\n",
        "To convert the output rows into probabilities, we use the softmax function, which has the following formula:"
      ],
      "metadata": {
        "id": "HeGqokxqOd8z"
      }
    },
    {
      "cell_type": "markdown",
      "source": [
        "For each of the 100 input images, we get 10 outputs, one for each class. As discussed earlier, we'd like these outputs to represent probabilities. Each output row's elements must lie between 0 to 1 and add up to 1, which is not the case. \n",
        "\n",
        "To convert the output rows into probabilities, we use the softmax function, which has the following formula:\n",
        "\n",
        "![softmax](https://i.imgur.com/EAh9jLN.png)\n",
        "\n",
        "First, we replace each element `yi` in an output row by `e^yi`, making all the elements positive. \n",
        "\n",
        "![](https://www.montereyinstitute.org/courses/DevelopmentalMath/COURSE_TEXT2_RESOURCE/U18_L1_T1_text_final_6_files/image001.png)\n",
        "\n",
        "\n",
        "\n",
        "Then, we divide them by their sum to ensure that they add up to 1. The resulting vector can thus be interpreted as probabilities.\n",
        "\n",
        "While it's easy to implement the softmax function (you should try it!), we'll use the implementation that's provided within PyTorch because it works well with multidimensional tensors (a list of output rows in our case)."
      ],
      "metadata": {
        "id": "EeeCd2d0OhlJ"
      }
    },
    {
      "cell_type": "code",
      "source": [
        "import torch.nn.functional as F"
      ],
      "metadata": {
        "id": "c52wAFj5DMv4"
      },
      "execution_count": 207,
      "outputs": []
    },
    {
      "cell_type": "markdown",
      "source": [
        "The softmax function is included in the torch.nn.functional package and requires us to specify a dimension along which the function should be applied."
      ],
      "metadata": {
        "id": "5e8Bq8XoSlFG"
      }
    },
    {
      "cell_type": "code",
      "source": [
        "outputs[:1]"
      ],
      "metadata": {
        "colab": {
          "base_uri": "https://localhost:8080/"
        },
        "id": "k_krzhTCSi4p",
        "outputId": "935a5a28-d260-44a7-c024-99f908b1cf63"
      },
      "execution_count": 211,
      "outputs": [
        {
          "output_type": "execute_result",
          "data": {
            "text/plain": [
              "tensor([[ 0.2230,  0.2580, -0.1762, -0.0653, -0.2529, -0.0262,  0.3520,  0.4744,\n",
              "          0.0227, -0.0560]], grad_fn=<SliceBackward0>)"
            ]
          },
          "metadata": {},
          "execution_count": 211
        }
      ]
    },
    {
      "cell_type": "code",
      "source": [
        "probs = F.softmax(outputs, dim=1)"
      ],
      "metadata": {
        "id": "kU77Rp-XSnCs"
      },
      "execution_count": 212,
      "outputs": []
    },
    {
      "cell_type": "code",
      "source": [
        "probs"
      ],
      "metadata": {
        "colab": {
          "base_uri": "https://localhost:8080/"
        },
        "id": "7MMPxXWGS0QP",
        "outputId": "c6afb0cd-55c4-4773-dadc-0f87c7e9a641"
      },
      "execution_count": 213,
      "outputs": [
        {
          "output_type": "execute_result",
          "data": {
            "text/plain": [
              "tensor([[0.1129, 0.1169, 0.0758,  ..., 0.1452, 0.0924, 0.0854],\n",
              "        [0.1177, 0.1055, 0.0803,  ..., 0.1321, 0.0897, 0.0838],\n",
              "        [0.1118, 0.0997, 0.0881,  ..., 0.1118, 0.0991, 0.0805],\n",
              "        ...,\n",
              "        [0.1482, 0.1076, 0.0838,  ..., 0.1801, 0.0792, 0.0678],\n",
              "        [0.1123, 0.1084, 0.1045,  ..., 0.1292, 0.1102, 0.0820],\n",
              "        [0.1634, 0.1545, 0.0793,  ..., 0.1097, 0.0842, 0.0649]],\n",
              "       grad_fn=<SoftmaxBackward0>)"
            ]
          },
          "metadata": {},
          "execution_count": 213
        }
      ]
    },
    {
      "cell_type": "code",
      "source": [
        "print('sum of ',torch.sum(probs[0]).item())"
      ],
      "metadata": {
        "colab": {
          "base_uri": "https://localhost:8080/"
        },
        "id": "pcaRCZgES2U5",
        "outputId": "f01ddf03-4b97-4aff-fa35-2822cb463d9b"
      },
      "execution_count": 216,
      "outputs": [
        {
          "output_type": "stream",
          "name": "stdout",
          "text": [
            "sum of  1.0\n"
          ]
        }
      ]
    },
    {
      "cell_type": "markdown",
      "source": [
        "Finally, we can determine the predicted label for each image by simply choosing the index of the element with the highest probability in each output row. We can do this using torch.max, which returns each row's largest element and the corresponding index."
      ],
      "metadata": {
        "id": "S1x1nDBiTPxH"
      }
    },
    {
      "cell_type": "code",
      "source": [
        "max_probs, preds = torch.max(probs, dim=1)"
      ],
      "metadata": {
        "id": "QmPHoLU5THpq"
      },
      "execution_count": 217,
      "outputs": []
    },
    {
      "cell_type": "code",
      "source": [
        " torch.max(probs, dim=1)"
      ],
      "metadata": {
        "colab": {
          "base_uri": "https://localhost:8080/"
        },
        "id": "UiIAHt0fTZik",
        "outputId": "dbb20979-88cb-49ae-e018-034ad66364dc"
      },
      "execution_count": 218,
      "outputs": [
        {
          "output_type": "execute_result",
          "data": {
            "text/plain": [
              "torch.return_types.max(\n",
              "values=tensor([0.1452, 0.1321, 0.1241, 0.1490, 0.1823, 0.1253, 0.1418, 0.1277, 0.1461,\n",
              "        0.1500, 0.1431, 0.1452, 0.1263, 0.1466, 0.1234, 0.1238, 0.1355, 0.1510,\n",
              "        0.1427, 0.1470, 0.1545, 0.1279, 0.1375, 0.1492, 0.1271, 0.1280, 0.1178,\n",
              "        0.1897, 0.1450, 0.1369, 0.1180, 0.1449, 0.1340, 0.1253, 0.1278, 0.1341,\n",
              "        0.1362, 0.1471, 0.1324, 0.1749, 0.1488, 0.1675, 0.1183, 0.1336, 0.1388,\n",
              "        0.1693, 0.1488, 0.1446, 0.1452, 0.1433, 0.1407, 0.1518, 0.1467, 0.1295,\n",
              "        0.1447, 0.1488, 0.1431, 0.1349, 0.1394, 0.1328, 0.1599, 0.1446, 0.1396,\n",
              "        0.1595, 0.1460, 0.1238, 0.1420, 0.1273, 0.1555, 0.1330, 0.1406, 0.1224,\n",
              "        0.1230, 0.1380, 0.1308, 0.1776, 0.1450, 0.1303, 0.1342, 0.1457, 0.1405,\n",
              "        0.1603, 0.1189, 0.1360, 0.1250, 0.1541, 0.1472, 0.1303, 0.1450, 0.1266,\n",
              "        0.1216, 0.1377, 0.1332, 0.1263, 0.1256, 0.1422, 0.1484, 0.1507, 0.1236,\n",
              "        0.1328, 0.1246, 0.1634, 0.1522, 0.1273, 0.1446, 0.1577, 0.1230, 0.1280,\n",
              "        0.1201, 0.1398, 0.1513, 0.1294, 0.1235, 0.1284, 0.1256, 0.1457, 0.1264,\n",
              "        0.1387, 0.1315, 0.1380, 0.1436, 0.1199, 0.1392, 0.1210, 0.1198, 0.1801,\n",
              "        0.1292, 0.1634], grad_fn=<MaxBackward0>),\n",
              "indices=tensor([7, 7, 6, 2, 0, 6, 6, 1, 7, 7, 0, 0, 0, 7, 6, 0, 0, 0, 0, 0, 7, 6, 7, 0,\n",
              "        6, 5, 2, 7, 0, 0, 7, 6, 0, 7, 1, 1, 0, 7, 7, 0, 0, 7, 0, 0, 1, 7, 1, 0,\n",
              "        0, 1, 0, 7, 7, 0, 1, 0, 6, 1, 0, 0, 0, 0, 0, 6, 6, 6, 1, 0, 1, 1, 0, 7,\n",
              "        1, 1, 0, 7, 0, 0, 0, 0, 0, 0, 6, 0, 7, 7, 7, 7, 7, 7, 1, 7, 0, 7, 0, 7,\n",
              "        0, 0, 7, 0, 1, 7, 0, 6, 1, 0, 0, 9, 0, 7, 0, 6, 1, 1, 7, 7, 6, 7, 6, 0,\n",
              "        0, 7, 1, 0, 7, 7, 7, 0]))"
            ]
          },
          "metadata": {},
          "execution_count": 218
        }
      ]
    },
    {
      "cell_type": "code",
      "source": [
        "probs"
      ],
      "metadata": {
        "colab": {
          "base_uri": "https://localhost:8080/"
        },
        "id": "cxGBCwTbTbp5",
        "outputId": "3dadcd96-7497-48a1-b2d3-82f62eb289d8"
      },
      "execution_count": 222,
      "outputs": [
        {
          "output_type": "execute_result",
          "data": {
            "text/plain": [
              "tensor([[0.1129, 0.1169, 0.0758,  ..., 0.1452, 0.0924, 0.0854],\n",
              "        [0.1177, 0.1055, 0.0803,  ..., 0.1321, 0.0897, 0.0838],\n",
              "        [0.1118, 0.0997, 0.0881,  ..., 0.1118, 0.0991, 0.0805],\n",
              "        ...,\n",
              "        [0.1482, 0.1076, 0.0838,  ..., 0.1801, 0.0792, 0.0678],\n",
              "        [0.1123, 0.1084, 0.1045,  ..., 0.1292, 0.1102, 0.0820],\n",
              "        [0.1634, 0.1545, 0.0793,  ..., 0.1097, 0.0842, 0.0649]],\n",
              "       grad_fn=<SoftmaxBackward0>)"
            ]
          },
          "metadata": {},
          "execution_count": 222
        }
      ]
    },
    {
      "cell_type": "code",
      "source": [
        "labels"
      ],
      "metadata": {
        "colab": {
          "base_uri": "https://localhost:8080/"
        },
        "id": "SBgxeAQLThza",
        "outputId": "dc27b31c-c89d-47b6-ddf4-41ded78361fb"
      },
      "execution_count": 223,
      "outputs": [
        {
          "output_type": "execute_result",
          "data": {
            "text/plain": [
              "tensor([9, 9, 5, 2, 8, 1, 3, 2, 3, 5, 6, 9, 6, 0, 9, 4, 3, 0, 8, 6, 0, 3, 4, 8,\n",
              "        7, 7, 1, 5, 9, 1, 4, 9, 9, 4, 6, 7, 7, 0, 1, 7, 6, 3, 1, 6, 8, 3, 8, 9,\n",
              "        9, 8, 5, 3, 5, 1, 6, 6, 9, 0, 0, 1, 6, 8, 2, 8, 8, 7, 9, 9, 2, 9, 2, 3,\n",
              "        7, 4, 9, 3, 6, 4, 1, 3, 4, 7, 6, 4, 7, 5, 8, 7, 5, 1, 6, 6, 5, 9, 1, 5,\n",
              "        8, 3, 0, 0, 6, 3, 8, 8, 8, 0, 1, 9, 0, 9, 6, 5, 9, 9, 6, 5, 4, 5, 1, 6,\n",
              "        2, 1, 2, 5, 2, 5, 2, 9])"
            ]
          },
          "metadata": {},
          "execution_count": 223
        }
      ]
    },
    {
      "cell_type": "markdown",
      "source": [
        "Most of the predicted labels are different from the actual labels. That's because we have started with randomly initialized weights and biases. We need to train the model, i.e., adjust the weights using gradient descent to make better predictions."
      ],
      "metadata": {
        "id": "GF3wawdtTyjN"
      }
    },
    {
      "cell_type": "markdown",
      "source": [
        "# Evaluation Metric and Loss Function"
      ],
      "metadata": {
        "id": "1ad0TVO4T0uE"
      }
    },
    {
      "cell_type": "markdown",
      "source": [
        "Just as with linear regression, we need a way to evaluate how well our model is performing. A natural way to do this would be to find the percentage of labels that were predicted correctly, i.e,. the accuracy of the predictions."
      ],
      "metadata": {
        "id": "Z4HQpAwyVHTs"
      }
    },
    {
      "cell_type": "code",
      "source": [
        "outputs[:2]"
      ],
      "metadata": {
        "colab": {
          "base_uri": "https://localhost:8080/"
        },
        "id": "N_hvXPnjTuRB",
        "outputId": "113f91b6-7c69-44a0-f139-889c42b7aad1"
      },
      "execution_count": 224,
      "outputs": [
        {
          "output_type": "execute_result",
          "data": {
            "text/plain": [
              "tensor([[ 0.2230,  0.2580, -0.1762, -0.0653, -0.2529, -0.0262,  0.3520,  0.4744,\n",
              "          0.0227, -0.0560],\n",
              "        [ 0.1958,  0.0860, -0.1869, -0.0745, -0.1861, -0.0187,  0.2619,  0.3107,\n",
              "         -0.0758, -0.1444]], grad_fn=<SliceBackward0>)"
            ]
          },
          "metadata": {},
          "execution_count": 224
        }
      ]
    },
    {
      "cell_type": "code",
      "source": [
        "torch.sum(preds == labels)"
      ],
      "metadata": {
        "colab": {
          "base_uri": "https://localhost:8080/"
        },
        "id": "C4MSvRGJVJ1w",
        "outputId": "2d5ae65e-c3be-4671-841b-8a53f7b8a74c"
      },
      "execution_count": 226,
      "outputs": [
        {
          "output_type": "execute_result",
          "data": {
            "text/plain": [
              "tensor(10)"
            ]
          },
          "metadata": {},
          "execution_count": 226
        }
      ]
    },
    {
      "cell_type": "code",
      "source": [
        "def accuracy(outputs, labels):\n",
        "  _, preds = torch.max(outputs, dim=1)\n",
        "  return torch.tensor(torch.sum(preds == labels).item()/len(preds))\n"
      ],
      "metadata": {
        "id": "l_x4dU8aVNqb"
      },
      "execution_count": 253,
      "outputs": []
    },
    {
      "cell_type": "markdown",
      "source": [
        "The == operator performs an element-wise comparison of two tensors with the same shape and returns a tensor of the same shape, containing True for unequal elements and False for equal elements. Passing the result to torch.sum returns the number of labels that were predicted correctly. Finally, we divide by the total number of images to get the accuracy.\n",
        "Note that we don't need to apply softmax to the outputs since its results have the same relative order. This is because e^x is an increasing function, i.e., if y1 > y2, then e^y1 > e^y2. The same holds after averaging out the values to get the softmax.\n",
        "Let's calculate the accuracy of the current model on the first batch of data.\n"
      ],
      "metadata": {
        "id": "qSol-kiOWi0B"
      }
    },
    {
      "cell_type": "code",
      "source": [
        "accuracy(outputs, labels)"
      ],
      "metadata": {
        "colab": {
          "base_uri": "https://localhost:8080/"
        },
        "id": "PH3xslsJWXrd",
        "outputId": "0614a758-4a24-49cb-f682-20553c20573d"
      },
      "execution_count": 228,
      "outputs": [
        {
          "output_type": "execute_result",
          "data": {
            "text/plain": [
              "tensor(0.0781)"
            ]
          },
          "metadata": {},
          "execution_count": 228
        }
      ]
    },
    {
      "cell_type": "code",
      "source": [
        "probs"
      ],
      "metadata": {
        "colab": {
          "base_uri": "https://localhost:8080/"
        },
        "id": "9QQNwc5iWmpd",
        "outputId": "c434924c-11c9-45fa-9f40-54432d4cad7d"
      },
      "execution_count": 229,
      "outputs": [
        {
          "output_type": "execute_result",
          "data": {
            "text/plain": [
              "tensor([[0.1129, 0.1169, 0.0758,  ..., 0.1452, 0.0924, 0.0854],\n",
              "        [0.1177, 0.1055, 0.0803,  ..., 0.1321, 0.0897, 0.0838],\n",
              "        [0.1118, 0.0997, 0.0881,  ..., 0.1118, 0.0991, 0.0805],\n",
              "        ...,\n",
              "        [0.1482, 0.1076, 0.0838,  ..., 0.1801, 0.0792, 0.0678],\n",
              "        [0.1123, 0.1084, 0.1045,  ..., 0.1292, 0.1102, 0.0820],\n",
              "        [0.1634, 0.1545, 0.0793,  ..., 0.1097, 0.0842, 0.0649]],\n",
              "       grad_fn=<SoftmaxBackward0>)"
            ]
          },
          "metadata": {},
          "execution_count": 229
        }
      ]
    },
    {
      "cell_type": "markdown",
      "source": [
        "Accuracy is an excellent way for us (humans) to evaluate the model. However, we can't use it as a loss function for optimizing our model using gradient descent for the following reasons:\n",
        "\n",
        "1. It's not a differentiable function. `torch.max` and `==` are both non-continuous and non-differentiable operations, so we can't use the accuracy for computing gradients w.r.t the weights and biases.\n",
        "\n",
        "2. It doesn't take into account the actual probabilities predicted by the model, so it can't provide sufficient feedback for incremental improvements. \n",
        "\n",
        "For these reasons, accuracy is often used as an **evaluation metric** for classification, but not as a loss function. A commonly used loss function for classification problems is the **cross-entropy**, which has the following formula:\n",
        "\n",
        "![cross-entropy](https://i.imgur.com/VDRDl1D.png)\n",
        "\n",
        "While it looks complicated, it's actually quite simple:\n",
        "\n",
        "* For each output row, pick the predicted probability for the correct label. E.g., if the predicted probabilities for an image are `[0.1, 0.3, 0.2, ...]` and the correct label is `1`, we pick the corresponding element `0.3` and ignore the rest.\n",
        "\n",
        "* Then, take the [logarithm](https://en.wikipedia.org/wiki/Logarithm) of the picked probability. If the probability is high, i.e., close to 1, then its logarithm is a very small negative value, close to 0. And if the probability is low (close to 0), then the logarithm is a very large negative value. We also multiply the result by -1, which results is a large postive value of the loss for poor predictions.\n",
        "\n",
        "![](https://www.intmath.com/blog/wp-content/images/2019/05/log10.png)\n",
        "\n",
        "* Finally, take the average of the cross entropy across all the output rows to get the overall loss for a batch of data.\n",
        "\n",
        "Unlike accuracy, cross-entropy is a continuous and differentiable function. It also provides useful feedback for incremental improvements in the model (a slightly higher probability for the correct label leads to a lower loss). These two factors make cross-entropy a better choice for the loss function.\n",
        "\n",
        "As you might expect, PyTorch provides an efficient and tensor-friendly implementation of cross-entropy as part of the `torch.nn.functional` package. Moreover, it also performs softmax internally, so we can directly pass in the model's outputs without converting them into probabilities."
      ],
      "metadata": {
        "id": "mcwd8nglW85w"
      }
    },
    {
      "cell_type": "code",
      "source": [
        "outputs"
      ],
      "metadata": {
        "colab": {
          "base_uri": "https://localhost:8080/"
        },
        "id": "9PQJOrrJWo1n",
        "outputId": "ee102b28-f4b4-4b69-f36c-76e8c468f219"
      },
      "execution_count": 230,
      "outputs": [
        {
          "output_type": "execute_result",
          "data": {
            "text/plain": [
              "tensor([[ 0.2230,  0.2580, -0.1762,  ...,  0.4744,  0.0227, -0.0560],\n",
              "        [ 0.1958,  0.0860, -0.1869,  ...,  0.3107, -0.0758, -0.1444],\n",
              "        [ 0.1621,  0.0476, -0.0757,  ...,  0.1624,  0.0417, -0.1667],\n",
              "        ...,\n",
              "        [ 0.3752,  0.0547, -0.1951,  ...,  0.5702, -0.2511, -0.4075],\n",
              "        [ 0.1841,  0.1487,  0.1121,  ...,  0.3241,  0.1644, -0.1302],\n",
              "        [ 0.6296,  0.5735, -0.0935,  ...,  0.2311, -0.0336, -0.2941]],\n",
              "       grad_fn=<AddmmBackward0>)"
            ]
          },
          "metadata": {},
          "execution_count": 230
        }
      ]
    },
    {
      "cell_type": "code",
      "source": [
        "loss_fn = F.cross_entropy"
      ],
      "metadata": {
        "id": "t8AUwWyRXesT"
      },
      "execution_count": 231,
      "outputs": []
    },
    {
      "cell_type": "code",
      "source": [
        "loss = loss_fn(outputs, labels)\n",
        "print(loss)"
      ],
      "metadata": {
        "colab": {
          "base_uri": "https://localhost:8080/"
        },
        "id": "WOOruQqEXjDH",
        "outputId": "4a26a12e-ba4c-4fc2-edd9-8bb7f6c72b91"
      },
      "execution_count": 234,
      "outputs": [
        {
          "output_type": "stream",
          "name": "stdout",
          "text": [
            "tensor(2.3551, grad_fn=<NllLossBackward0>)\n"
          ]
        }
      ]
    },
    {
      "cell_type": "markdown",
      "source": [
        "We know that cross-entropy is the negative logarithm of the predicted probability of the correct label averaged over all training samples. Therefore, one way to interpret the resulting number e.g. 2.23 is look at e^-2.23 which is around 0.1 as the predicted probability of the correct label, on average. The lower the loss, The better the model."
      ],
      "metadata": {
        "id": "HNXzIo7uXxHy"
      }
    },
    {
      "cell_type": "markdown",
      "source": [
        "## Training the model\n",
        "\n",
        "Now that we have defined the data loaders, model, loss function and optimizer, we are ready to train the model. The training process is identical to linear regression, with the addition of a \"validation phase\" to evaluate the model in each epoch. Here's what it looks like in pseudocode:\n",
        "\n",
        "```\n",
        "for epoch in range(num_epochs):\n",
        "    # Training phase\n",
        "    for batch in train_loader:\n",
        "        # Generate predictions\n",
        "        # Calculate loss\n",
        "        # Compute gradients\n",
        "        # Update weights\n",
        "        # Reset gradients\n",
        "    \n",
        "    # Validation phase\n",
        "    for batch in val_loader:\n",
        "        # Generate predictions\n",
        "        # Calculate loss\n",
        "        # Calculate metrics (accuracy etc.)\n",
        "    # Calculate average validation loss & metrics\n",
        "    \n",
        "    # Log epoch, loss & metrics for inspection\n",
        "```\n",
        "\n",
        "Some parts of the training loop are specific the specific problem we're solving (e.g. loss function, metrics etc.) whereas others are generic and can be applied to any deep learning problem. \n",
        "\n",
        "We'll include the problem-independent parts within a function called `fit`, which will be used to train the model. The problem-specific parts will be implemented by adding new methods to the `nn.Module` class.\n",
        "\n"
      ],
      "metadata": {
        "id": "34CI0_gZX2_C"
      }
    },
    {
      "cell_type": "code",
      "source": [
        "def fit(epochs, lr, model, train_loader, val_loader, opt_func=torch.optim.SGD):\n",
        "  optimizer = opt_func(model.parameters(), lr)\n",
        "  history = [] # for recording epoch-wise results\n",
        "\n",
        "  for epoch in range(epochs):\n",
        "    #training phase \n",
        "    for batch in train_loader:\n",
        "      loss = model.training_step(batch)\n",
        "      loss.backward()\n",
        "      optimizer.step()\n",
        "      optimizer.zero_grad()\n",
        "\n",
        "    # Validation phase\n",
        "    result = evaluate(model, val_loader)\n",
        "    model.epoch_end(epoch, result)\n",
        "    history.append(result)\n",
        "  return history    "
      ],
      "metadata": {
        "id": "OAQhYD33Xn21"
      },
      "execution_count": 263,
      "outputs": []
    },
    {
      "cell_type": "code",
      "source": [
        "l1 = [1, 2, 3, 4, 5]"
      ],
      "metadata": {
        "id": "zgvtigJCeoRW"
      },
      "execution_count": 238,
      "outputs": []
    },
    {
      "cell_type": "code",
      "source": [
        "l2 = [x*2 for x in l1]\n",
        "l2"
      ],
      "metadata": {
        "colab": {
          "base_uri": "https://localhost:8080/"
        },
        "id": "jAQRLlqYfFTS",
        "outputId": "d02e9e0c-7348-45b1-9e41-417b30b8cb00"
      },
      "execution_count": 241,
      "outputs": [
        {
          "output_type": "execute_result",
          "data": {
            "text/plain": [
              "[2, 4, 6, 8, 10]"
            ]
          },
          "metadata": {},
          "execution_count": 241
        }
      ]
    },
    {
      "cell_type": "code",
      "source": [
        "def evaluate(model, val_loader):\n",
        "  outputs = [model.validation_step(batch) for batch in val_loader]\n",
        "  return model.validation_epoch_end(outputs)"
      ],
      "metadata": {
        "id": "D9wVlqmzfGR9"
      },
      "execution_count": 242,
      "outputs": []
    },
    {
      "cell_type": "markdown",
      "source": [
        "Finally, let's redefine the MnistModel class to include additional methods training_step, validation_step, validation_epoch_end, and epoch_end used by fit and evaluate."
      ],
      "metadata": {
        "id": "ouepC1WtfwMK"
      }
    },
    {
      "cell_type": "code",
      "source": [
        "class MnistModule(nn.Module):\n",
        "  def __init__(self):\n",
        "      super().__init__()\n",
        "      self.linear = nn.Linear(input_size, num_classes)\n",
        "\n",
        "  def forward(self, xb):\n",
        "      xb = xb.reshape(-1,784)\n",
        "      out = self.linear(xb)\n",
        "      return out\n",
        "\n",
        "  def training_step(self, batch):\n",
        "      images, labels = batch\n",
        "      out = self(images) # generate predictions\n",
        "      loss = F.cross_entropy(out,labels) # finding loss\n",
        "      return loss\n",
        "\n",
        "  def validation_step(self, batch):\n",
        "      images, labels = batch\n",
        "      out = self(images)                    # Generate predictions\n",
        "      loss = F.cross_entropy(out, labels)   # Calculate loss\n",
        "      accu = accuracy(out, labels)          # calculate accuracy\n",
        "      return {'Val_loss': loss, 'Val_accu': accu}\n",
        "\n",
        "  def validation_epoch_end(self, outputs):\n",
        "      batch_loss = [x['Val_loss'] for x in outputs]\n",
        "      epoch_loss = torch.stack(batch_loss).mean()\n",
        "      batch_accu =[x['Val_accu'] for x in outputs]\n",
        "      epoch_accu = torch.stack(batch_accu).mean()\n",
        "      return {'Val_loss': epoch_loss.item(), 'Val_accu': epoch_accu.item() }\n",
        "\n",
        "  def epoch_end(self, epoch, result):\n",
        "      print(\"Epoch [{}], val_loss:{:.4f}, Val_accu:{:.4f}\".format(epoch,result['Val_loss'],result['Val_accu']))\n",
        "\n",
        "model = MnistModule()         \n",
        "\n",
        "\n"
      ],
      "metadata": {
        "id": "rCsP11LGfqae"
      },
      "execution_count": 260,
      "outputs": []
    },
    {
      "cell_type": "code",
      "source": [
        "model.parameters"
      ],
      "metadata": {
        "colab": {
          "base_uri": "https://localhost:8080/"
        },
        "id": "O6o-PHObju9D",
        "outputId": "b0e1065f-7bb8-420d-bdc3-fa542a3cd8da"
      },
      "execution_count": 251,
      "outputs": [
        {
          "output_type": "execute_result",
          "data": {
            "text/plain": [
              "<bound method Module.parameters of MnistModule(\n",
              "  (linear): Linear(in_features=784, out_features=10, bias=True)\n",
              ")>"
            ]
          },
          "metadata": {},
          "execution_count": 251
        }
      ]
    },
    {
      "cell_type": "code",
      "source": [
        "result0 = evaluate(model, val_loader)\n",
        "result0"
      ],
      "metadata": {
        "colab": {
          "base_uri": "https://localhost:8080/"
        },
        "id": "MXxAlebviuny",
        "outputId": "c0236a2d-153f-4dc6-d750-0471b9d69803"
      },
      "execution_count": 256,
      "outputs": [
        {
          "output_type": "execute_result",
          "data": {
            "text/plain": [
              "{'Val_loss': 2.3328614234924316, 'Val_accu': 0.12786787748336792}"
            ]
          },
          "metadata": {},
          "execution_count": 256
        }
      ]
    },
    {
      "cell_type": "markdown",
      "source": [
        "he initial accuracy is around 10%, which one might expect from a randomly initialized model (since it has a 1 in 10 chance of getting a label right by guessing randomly).\n",
        "We are now ready to train the model. Let's train for five epochs and look at the results."
      ],
      "metadata": {
        "id": "mJ6toFeRkePG"
      }
    },
    {
      "cell_type": "code",
      "source": [
        "history1 = fit(5, 0.001, model, train_loader, val_loader)"
      ],
      "metadata": {
        "colab": {
          "base_uri": "https://localhost:8080/"
        },
        "id": "3rcaaPnTjrZi",
        "outputId": "a23c8c16-567f-4a0d-ab12-b456bf79d545"
      },
      "execution_count": 264,
      "outputs": [
        {
          "output_type": "stream",
          "name": "stdout",
          "text": [
            "Epoch [0], val_loss:1.9314, Val_accu:0.6301\n",
            "Epoch [1], val_loss:1.6637, Val_accu:0.7341\n",
            "Epoch [2], val_loss:1.4696, Val_accu:0.7609\n",
            "Epoch [3], val_loss:1.3177, Val_accu:0.7882\n",
            "Epoch [4], val_loss:1.2008, Val_accu:0.7999\n"
          ]
        }
      ]
    },
    {
      "cell_type": "markdown",
      "source": [
        "That's a great result! With just 5 epochs of training, our model has reached an accuracy of over 80% on the validation set. Let's see if we can improve that by training for a few more epochs. Try changing the learning rates and number of epochs in each of the cells below."
      ],
      "metadata": {
        "id": "b_LDA8v_lpVg"
      }
    },
    {
      "cell_type": "code",
      "source": [
        "history2 = fit(5, 0.001, model, train_loader, val_loader)"
      ],
      "metadata": {
        "colab": {
          "base_uri": "https://localhost:8080/"
        },
        "id": "_L52PAS_kjUc",
        "outputId": "9686c1e0-ec60-49ee-b8cd-ca2c3108bf83"
      },
      "execution_count": 265,
      "outputs": [
        {
          "output_type": "stream",
          "name": "stdout",
          "text": [
            "Epoch [0], val_loss:1.1106, Val_accu:0.8113\n",
            "Epoch [1], val_loss:1.0361, Val_accu:0.8204\n",
            "Epoch [2], val_loss:0.9794, Val_accu:0.8255\n",
            "Epoch [3], val_loss:0.9251, Val_accu:0.8322\n",
            "Epoch [4], val_loss:0.8879, Val_accu:0.8340\n"
          ]
        }
      ]
    },
    {
      "cell_type": "code",
      "source": [
        "history3 = fit(5, 0.001, model, train_loader, val_loader)\n"
      ],
      "metadata": {
        "colab": {
          "base_uri": "https://localhost:8080/"
        },
        "id": "wwcT9wyAlsG5",
        "outputId": "ab4b31d5-efb4-4f3c-a86c-05a23d04f197"
      },
      "execution_count": 266,
      "outputs": [
        {
          "output_type": "stream",
          "name": "stdout",
          "text": [
            "Epoch [0], val_loss:0.8525, Val_accu:0.8374\n",
            "Epoch [1], val_loss:0.8171, Val_accu:0.8443\n",
            "Epoch [2], val_loss:0.7913, Val_accu:0.8442\n",
            "Epoch [3], val_loss:0.7683, Val_accu:0.8476\n",
            "Epoch [4], val_loss:0.7440, Val_accu:0.8505\n"
          ]
        }
      ]
    },
    {
      "cell_type": "code",
      "source": [
        "history4 = fit(5, 0.001, model, train_loader, val_loader)\n"
      ],
      "metadata": {
        "colab": {
          "base_uri": "https://localhost:8080/"
        },
        "id": "l1ZTdrdamDJ5",
        "outputId": "16fa485d-734a-4c51-a9be-77900c66da69"
      },
      "execution_count": 267,
      "outputs": [
        {
          "output_type": "stream",
          "name": "stdout",
          "text": [
            "Epoch [0], val_loss:0.7228, Val_accu:0.8532\n",
            "Epoch [1], val_loss:0.7058, Val_accu:0.8552\n",
            "Epoch [2], val_loss:0.6864, Val_accu:0.8577\n",
            "Epoch [3], val_loss:0.6748, Val_accu:0.8570\n",
            "Epoch [4], val_loss:0.6625, Val_accu:0.8580\n"
          ]
        }
      ]
    },
    {
      "cell_type": "code",
      "source": [
        "history\n",
        "accuracies = [result['Val_accu'] for result in history]"
      ],
      "metadata": {
        "id": "y7G-M2VLmwv4"
      },
      "execution_count": 275,
      "outputs": []
    },
    {
      "cell_type": "code",
      "source": [
        "history = [result0] + history1 + history2 + history4\n",
        "accuracies = [result['Val_accu'] for result in history]\n",
        "plt.plot(accuracies, '-x')\n",
        "plt.xlabel('epoch')\n",
        "plt.ylabel('accuracy')\n",
        "plt.title('Accuracy vs. No. of epochs');"
      ],
      "metadata": {
        "colab": {
          "base_uri": "https://localhost:8080/",
          "height": 295
        },
        "id": "cLatJK7SmWzp",
        "outputId": "2c4dc98e-66dc-4618-a5c7-ca0d0f34d492"
      },
      "execution_count": 276,
      "outputs": [
        {
          "output_type": "display_data",
          "data": {
            "text/plain": [
              "<Figure size 432x288 with 1 Axes>"
            ],
            "image/png": "[encoded data removed]"
          },
          "metadata": {
            "needs_background": "light"
          }
        }
      ]
    },
    {
      "cell_type": "markdown",
      "source": [
        "It's quite clear from the above picture that the model probably won't cross the accuracy threshold of 90% even after training for a very long time. One possible reason for this is that the learning rate might be too high. The model's parameters may be \"bouncing\" around the optimal set of parameters for the lowest loss. You can try reducing the learning rate and training for a few more epochs to see if it helps.\n",
        "The more likely reason that the model just isn't powerful enough. If you remember our initial hypothesis, we have assumed that the output (in this case the class probabilities) is a linear function of the input (pixel intensities), obtained by perfoming a matrix multiplication with the weights matrix and adding the bias. This is a fairly weak assumption, as there may not actually exist a linear relationship between the pixel intensities in an image and the digit it represents. While it works reasonably well for a simple dataset like MNIST (getting us to 85% accuracy), we need more sophisticated models that can capture non-linear relationships between image pixels and labels for complex tasks like recognizing everyday objects, animals etc.\n",
        "Let's save our work using jovian.commit. Along with the notebook, we can also record some metrics from our training."
      ],
      "metadata": {
        "id": "XWDQJrjxnDOQ"
      }
    },
    {
      "cell_type": "markdown",
      "source": [
        "# Testing with individual images\n",
        "\n",
        "While we have been tracking the overall accuracy of a model so far, it's also a good idea to look at model's results on some sample images. Let's test out our model with some images from the predefined test dataset of 10000 images. We begin by recreating the test dataset with the ToTensor transform."
      ],
      "metadata": {
        "id": "Lnxhz5K3nDHx"
      }
    },
    {
      "cell_type": "code",
      "source": [
        "# Define test dataset\n",
        "test_dataset = MNIST(root='data/', \n",
        "                     train=False,\n",
        "                     transform=transforms.ToTensor())"
      ],
      "metadata": {
        "id": "0F7MCJg7mjDB"
      },
      "execution_count": 277,
      "outputs": []
    },
    {
      "cell_type": "code",
      "source": [
        "img, label = test_dataset[0]\n",
        "plt.imshow(img[0], cmap='gray')\n",
        "print('Shape:', img.shape)\n",
        "print('Label:', label)"
      ],
      "metadata": {
        "colab": {
          "base_uri": "https://localhost:8080/",
          "height": 301
        },
        "id": "LVMle7bbnNUC",
        "outputId": "bdce473c-df11-4209-c4d0-d84ff784e604"
      },
      "execution_count": 278,
      "outputs": [
        {
          "output_type": "stream",
          "name": "stdout",
          "text": [
            "Shape: torch.Size([1, 28, 28])\n",
            "Label: 7\n"
          ]
        },
        {
          "output_type": "display_data",
          "data": {
            "text/plain": [
              "<Figure size 432x288 with 1 Axes>"
            ],
            "image/png": "[encoded data removed]"
          },
          "metadata": {
            "needs_background": "light"
          }
        }
      ]
    },
    {
      "cell_type": "markdown",
      "source": [
        "Let's define a helper function predict_image, which returns the predicted label for a single image tensor."
      ],
      "metadata": {
        "id": "BRILraUFnWWn"
      }
    },
    {
      "cell_type": "code",
      "source": [
        "def predict_image(img, model):\n",
        "    xb = img.unsqueeze(0)\n",
        "    yb = model(xb)\n",
        "    _, preds = torch.max(yb, dim=1)\n",
        "    return preds[0].item()"
      ],
      "metadata": {
        "id": "aeRqTduCnQWu"
      },
      "execution_count": 279,
      "outputs": []
    },
    {
      "cell_type": "markdown",
      "source": [
        "img.unsqueeze simply adds another dimension at the begining of the 1x28x28 tensor, making it a 1x1x28x28 tensor, which the model views as a batch containing a single image."
      ],
      "metadata": {
        "id": "nRQWkqpinfku"
      }
    },
    {
      "cell_type": "code",
      "source": [
        "img, label = test_dataset[0]\n",
        "plt.imshow(img[0], cmap='gray')\n",
        "print('Label:', label, ', Predicted:', predict_image(img, model))"
      ],
      "metadata": {
        "colab": {
          "base_uri": "https://localhost:8080/",
          "height": 283
        },
        "id": "eQoIhU6_nYni",
        "outputId": "aa3717f8-24df-4db7-96bc-e87afaa30658"
      },
      "execution_count": 280,
      "outputs": [
        {
          "output_type": "stream",
          "name": "stdout",
          "text": [
            "Label: 7 , Predicted: 7\n"
          ]
        },
        {
          "output_type": "display_data",
          "data": {
            "text/plain": [
              "<Figure size 432x288 with 1 Axes>"
            ],
            "image/png": "[encoded data removed]"
          },
          "metadata": {
            "needs_background": "light"
          }
        }
      ]
    },
    {
      "cell_type": "code",
      "source": [
        "img, label = test_dataset[10]\n",
        "plt.imshow(img[0], cmap='gray')\n",
        "print('Label:', label, ', Predicted:', predict_image(img, model))"
      ],
      "metadata": {
        "colab": {
          "base_uri": "https://localhost:8080/",
          "height": 283
        },
        "id": "tNGUZOpenh1F",
        "outputId": "4a43afd7-856d-4698-ec18-7129c3eecd96"
      },
      "execution_count": 281,
      "outputs": [
        {
          "output_type": "stream",
          "name": "stdout",
          "text": [
            "Label: 0 , Predicted: 0\n"
          ]
        },
        {
          "output_type": "display_data",
          "data": {
            "text/plain": [
              "<Figure size 432x288 with 1 Axes>"
            ],
            "image/png": "[encoded data removed]"
          },
          "metadata": {
            "needs_background": "light"
          }
        }
      ]
    },
    {
      "cell_type": "code",
      "source": [
        "img, label = test_dataset[193]\n",
        "plt.imshow(img[0], cmap='gray')\n",
        "print('Label:', label, ', Predicted:', predict_image(img, model))"
      ],
      "metadata": {
        "colab": {
          "base_uri": "https://localhost:8080/",
          "height": 283
        },
        "id": "qncnYijXnk88",
        "outputId": "712a3b4e-e679-4b74-8f58-ac735b90089c"
      },
      "execution_count": 282,
      "outputs": [
        {
          "output_type": "stream",
          "name": "stdout",
          "text": [
            "Label: 9 , Predicted: 9\n"
          ]
        },
        {
          "output_type": "display_data",
          "data": {
            "text/plain": [
              "<Figure size 432x288 with 1 Axes>"
            ],
            "image/png": "[encoded data removed]"
          },
          "metadata": {
            "needs_background": "light"
          }
        }
      ]
    },
    {
      "cell_type": "code",
      "source": [
        "img, label = test_dataset[1839]\n",
        "plt.imshow(img[0], cmap='gray')\n",
        "print('Label:', label, ', Predicted:', predict_image(img, model))"
      ],
      "metadata": {
        "colab": {
          "base_uri": "https://localhost:8080/",
          "height": 283
        },
        "id": "IR04Uir4nmtl",
        "outputId": "e7c96bdd-98b3-4a3a-a75c-0a27f188aa0a"
      },
      "execution_count": 283,
      "outputs": [
        {
          "output_type": "stream",
          "name": "stdout",
          "text": [
            "Label: 2 , Predicted: 8\n"
          ]
        },
        {
          "output_type": "display_data",
          "data": {
            "text/plain": [
              "<Figure size 432x288 with 1 Axes>"
            ],
            "image/png": "[encoded data removed]"
          },
          "metadata": {
            "needs_background": "light"
          }
        }
      ]
    },
    {
      "cell_type": "markdown",
      "source": [
        "Identifying where our model performs poorly can help us improve the model, by collecting more training data, increasing/decreasing the complexity of the model, and changing the hypeparameters.\n",
        "As a final step, let's also look at the overall loss and accuracy of the model on the test set."
      ],
      "metadata": {
        "id": "gG7AFlXsnruA"
      }
    },
    {
      "cell_type": "code",
      "source": [],
      "metadata": {
        "id": "IuFrmE5jnpX9"
      },
      "execution_count": null,
      "outputs": []
    }
  ]
}