{
  "nbformat": 4,
  "nbformat_minor": 0,
  "metadata": {
    "colab": {
      "provenance": [],
      "authorship_tag": "ABX9TyMYtdOMTrdjviF3ru4k7n5t",
      "include_colab_link": true
    },
    "kernelspec": {
      "name": "python3",
      "display_name": "Python 3"
    },
    "language_info": {
      "name": "python"
    },
    "accelerator": "GPU",
    "gpuClass": "standard"
  },
  "cells": [
    {
      "cell_type": "markdown",
      "metadata": {
        "id": "view-in-github",
        "colab_type": "text"
      },
      "source": [
        "<a href=\"https://colab.research.google.com/github/imshiv-10/Deep-Learning/blob/main/PyTorch_work_space.ipynb\" target=\"_parent\"><img src=\"https://colab.research.google.com/assets/colab-badge.svg\" alt=\"Open In Colab\"/></a>"
      ]
    },
    {
      "cell_type": "code",
      "execution_count": 2,
      "metadata": {
        "colab": {
          "base_uri": "https://localhost:8080/"
        },
        "id": "pWyoLKMmqXsE",
        "outputId": "b9fd8de5-e480-49cc-9593-5305e40d04b4"
      },
      "outputs": [
        {
          "output_type": "stream",
          "name": "stdout",
          "text": [
            "\u001b[?25l     \u001b[90m━━━━━━━━━━━━━━━━━━━━━━━━━━━━━━━━━━━━━━━━\u001b[0m \u001b[32m0.0/68.6 KB\u001b[0m \u001b[31m?\u001b[0m eta \u001b[36m-:--:--\u001b[0m\r\u001b[2K     \u001b[91m━━━━━━━━━━━━━━━━━━━━━━━━━━━━━━━━━━\u001b[0m\u001b[91m╸\u001b[0m\u001b[90m━━━━\u001b[0m \u001b[32m61.4/68.6 KB\u001b[0m \u001b[31m158.7 MB/s\u001b[0m eta \u001b[36m0:00:01\u001b[0m\r\u001b[2K     \u001b[90m━━━━━━━━━━━━━━━━━━━━━━━━━━━━━━━━━━━━━━━━\u001b[0m \u001b[32m68.6/68.6 KB\u001b[0m \u001b[31m1.3 MB/s\u001b[0m eta \u001b[36m0:00:00\u001b[0m\n",
            "\u001b[?25h  Preparing metadata (setup.py) ... \u001b[?25l\u001b[?25hdone\n",
            "  Building wheel for uuid (setup.py) ... \u001b[?25l\u001b[?25hdone\n"
          ]
        }
      ],
      "source": [
        "!pip install jovian --upgrade --quiet"
      ]
    },
    {
      "cell_type": "code",
      "source": [
        "import torch"
      ],
      "metadata": {
        "id": "rOZNvT3frGw9"
      },
      "execution_count": 3,
      "outputs": []
    },
    {
      "cell_type": "markdown",
      "source": [
        "## Tensors & Gradients"
      ],
      "metadata": {
        "id": "mg7by24ArN2g"
      }
    },
    {
      "cell_type": "code",
      "source": [
        "ls"
      ],
      "metadata": {
        "colab": {
          "base_uri": "https://localhost:8080/"
        },
        "id": "oZG72X_vrIBp",
        "outputId": "063b3f1a-cffb-4500-bcb0-6c562401c6af"
      },
      "execution_count": 4,
      "outputs": [
        {
          "output_type": "stream",
          "name": "stdout",
          "text": [
            "\u001b[0m\u001b[01;34msample_data\u001b[0m/\n"
          ]
        }
      ]
    },
    {
      "cell_type": "code",
      "source": [
        "t1 = torch.tensor(4., dtype=torch.float32)"
      ],
      "metadata": {
        "id": "W8R7kFV5saAq"
      },
      "execution_count": 5,
      "outputs": []
    },
    {
      "cell_type": "code",
      "source": [
        "t1"
      ],
      "metadata": {
        "colab": {
          "base_uri": "https://localhost:8080/"
        },
        "id": "NPOFI6ets27d",
        "outputId": "3d1e756d-ae59-460b-a033-6e365e008b99"
      },
      "execution_count": 6,
      "outputs": [
        {
          "output_type": "execute_result",
          "data": {
            "text/plain": [
              "tensor(4.)"
            ]
          },
          "metadata": {},
          "execution_count": 6
        }
      ]
    },
    {
      "cell_type": "code",
      "source": [
        "t1.dtype"
      ],
      "metadata": {
        "colab": {
          "base_uri": "https://localhost:8080/"
        },
        "id": "hXTT-J7ps4cg",
        "outputId": "e16da171-42c1-4e0f-fe3e-9a0b9df75f8d"
      },
      "execution_count": 7,
      "outputs": [
        {
          "output_type": "execute_result",
          "data": {
            "text/plain": [
              "torch.float32"
            ]
          },
          "metadata": {},
          "execution_count": 7
        }
      ]
    },
    {
      "cell_type": "code",
      "source": [
        "# vector\n",
        "t2 = torch.tensor([1.,2,3,4,5])"
      ],
      "metadata": {
        "id": "NdE8BtdKs6d1"
      },
      "execution_count": 8,
      "outputs": []
    },
    {
      "cell_type": "code",
      "source": [
        "t2"
      ],
      "metadata": {
        "colab": {
          "base_uri": "https://localhost:8080/"
        },
        "id": "4b713vK5ttXd",
        "outputId": "e55ee152-8337-4b14-931b-63230f49fe82"
      },
      "execution_count": 9,
      "outputs": [
        {
          "output_type": "execute_result",
          "data": {
            "text/plain": [
              "tensor([1., 2., 3., 4., 5.])"
            ]
          },
          "metadata": {},
          "execution_count": 9
        }
      ]
    },
    {
      "cell_type": "code",
      "source": [
        "t2.dtype"
      ],
      "metadata": {
        "colab": {
          "base_uri": "https://localhost:8080/"
        },
        "id": "e_CW7jjPtt8Y",
        "outputId": "7a43fe6e-71ab-464e-a110-73386b608234"
      },
      "execution_count": 10,
      "outputs": [
        {
          "output_type": "execute_result",
          "data": {
            "text/plain": [
              "torch.float32"
            ]
          },
          "metadata": {},
          "execution_count": 10
        }
      ]
    },
    {
      "cell_type": "code",
      "source": [
        "type(t2)"
      ],
      "metadata": {
        "colab": {
          "base_uri": "https://localhost:8080/"
        },
        "id": "-9nzsP8atweC",
        "outputId": "bdfadefe-26bd-4695-b1dd-4d83f2d1c913"
      },
      "execution_count": 11,
      "outputs": [
        {
          "output_type": "execute_result",
          "data": {
            "text/plain": [
              "torch.Tensor"
            ]
          },
          "metadata": {},
          "execution_count": 11
        }
      ]
    },
    {
      "cell_type": "code",
      "source": [
        "# Matrix # 1 Dimensional matrix\n",
        "t3 = torch.tensor([[1,2],\n",
        "                  [3,4],\n",
        "                  [5,6],\n",
        "                  [7,8]])"
      ],
      "metadata": {
        "id": "ooBoyBsStxvS"
      },
      "execution_count": 12,
      "outputs": []
    },
    {
      "cell_type": "code",
      "source": [
        "t3.size()"
      ],
      "metadata": {
        "colab": {
          "base_uri": "https://localhost:8080/"
        },
        "id": "kDCVCGiCt-Iv",
        "outputId": "43f2d176-2932-40a0-95f8-13e6ae3bd0ef"
      },
      "execution_count": 13,
      "outputs": [
        {
          "output_type": "execute_result",
          "data": {
            "text/plain": [
              "torch.Size([4, 2])"
            ]
          },
          "metadata": {},
          "execution_count": 13
        }
      ]
    },
    {
      "cell_type": "code",
      "source": [
        "# Matrix 3-dimensional matrix\n",
        "t4 = torch.tensor([[[1,2,3,4],\n",
        "                    [5,6,7,8],\n",
        "                    [9,10,11,12]],\n",
        "                   [[13,14,15,16],\n",
        "                   [17,18,19,20],\n",
        "                   [21,22,23,24]]])"
      ],
      "metadata": {
        "id": "Z2XURrTjuBZC"
      },
      "execution_count": 14,
      "outputs": []
    },
    {
      "cell_type": "code",
      "source": [
        "t4"
      ],
      "metadata": {
        "colab": {
          "base_uri": "https://localhost:8080/"
        },
        "id": "JG6y2JZHuT4k",
        "outputId": "00c483d3-b26f-4333-ac10-61de637908f9"
      },
      "execution_count": 15,
      "outputs": [
        {
          "output_type": "execute_result",
          "data": {
            "text/plain": [
              "tensor([[[ 1,  2,  3,  4],\n",
              "         [ 5,  6,  7,  8],\n",
              "         [ 9, 10, 11, 12]],\n",
              "\n",
              "        [[13, 14, 15, 16],\n",
              "         [17, 18, 19, 20],\n",
              "         [21, 22, 23, 24]]])"
            ]
          },
          "metadata": {},
          "execution_count": 15
        }
      ]
    },
    {
      "cell_type": "code",
      "source": [
        "t4.size()"
      ],
      "metadata": {
        "colab": {
          "base_uri": "https://localhost:8080/"
        },
        "id": "lKXvbZ5suwM7",
        "outputId": "1642e91a-d9a5-4d65-f926-f77acea4d3d6"
      },
      "execution_count": 16,
      "outputs": [
        {
          "output_type": "execute_result",
          "data": {
            "text/plain": [
              "torch.Size([2, 3, 4])"
            ]
          },
          "metadata": {},
          "execution_count": 16
        }
      ]
    },
    {
      "cell_type": "code",
      "source": [
        "t4.shape"
      ],
      "metadata": {
        "colab": {
          "base_uri": "https://localhost:8080/"
        },
        "id": "li3Z6xzyuyMC",
        "outputId": "d1f71d62-165d-46ba-94dc-a82c6efc30b9"
      },
      "execution_count": 17,
      "outputs": [
        {
          "output_type": "execute_result",
          "data": {
            "text/plain": [
              "torch.Size([2, 3, 4])"
            ]
          },
          "metadata": {},
          "execution_count": 17
        }
      ]
    },
    {
      "cell_type": "markdown",
      "source": [
        "# Tensor operations and gradients"
      ],
      "metadata": {
        "id": "pSQmIw96vCwb"
      }
    },
    {
      "cell_type": "markdown",
      "source": [
        "We combine the tensors with the usual arithmetic operations. Let's look an example"
      ],
      "metadata": {
        "id": "pzWV_eLmvF09"
      }
    },
    {
      "cell_type": "code",
      "source": [
        "# creating the tensors \n",
        "x = torch.tensor(3.)\n",
        "w = torch.tensor(4., requires_grad=True)\n",
        "_bias = torch.tensor(5., requires_grad=True)"
      ],
      "metadata": {
        "id": "WQJ3kBlCu8rQ"
      },
      "execution_count": 18,
      "outputs": []
    },
    {
      "cell_type": "code",
      "source": [
        "x, w"
      ],
      "metadata": {
        "colab": {
          "base_uri": "https://localhost:8080/"
        },
        "id": "dcOUgqwtvjcR",
        "outputId": "6857a755-a755-43ac-a59b-673839c03248"
      },
      "execution_count": 19,
      "outputs": [
        {
          "output_type": "execute_result",
          "data": {
            "text/plain": [
              "(tensor(3.), tensor(4., requires_grad=True))"
            ]
          },
          "metadata": {},
          "execution_count": 19
        }
      ]
    },
    {
      "cell_type": "markdown",
      "source": [
        "we have created the 3 tensors if x tensor will not included for derivative's\n",
        "\n",
        "lets function f(x)== y  = wx + _bias"
      ],
      "metadata": {
        "id": "MSFAa6vjvrXZ"
      }
    },
    {
      "cell_type": "code",
      "source": [
        "# linear function\n",
        "y = w * x + _bias"
      ],
      "metadata": {
        "id": "jK6fCKPLvj-6"
      },
      "execution_count": 20,
      "outputs": []
    },
    {
      "cell_type": "code",
      "source": [
        "y"
      ],
      "metadata": {
        "colab": {
          "base_uri": "https://localhost:8080/"
        },
        "id": "MotrWIUiAUJ4",
        "outputId": "9a5bbd55-201a-400b-ba22-a81ecd3870ef"
      },
      "execution_count": 21,
      "outputs": [
        {
          "output_type": "execute_result",
          "data": {
            "text/plain": [
              "tensor(17., grad_fn=<AddBackward0>)"
            ]
          },
          "metadata": {},
          "execution_count": 21
        }
      ]
    },
    {
      "cell_type": "markdown",
      "source": [
        "As expected, y is a tensor with the value 3 * 4 + 5 = 17. What makes PyTorch special is that we can automatically compute the derivative of y w.r.t. the tensors that have requires_grad set to True i.e. w and b. To compute the derivatives, we can call the .backward method on our result y."
      ],
      "metadata": {
        "id": "GJVi1NeGAf_w"
      }
    },
    {
      "cell_type": "code",
      "source": [
        "y.backward()"
      ],
      "metadata": {
        "id": "XqqoCucwAU6W"
      },
      "execution_count": 22,
      "outputs": []
    },
    {
      "cell_type": "code",
      "source": [
        "y"
      ],
      "metadata": {
        "colab": {
          "base_uri": "https://localhost:8080/"
        },
        "id": "8zrSQUHmA82Q",
        "outputId": "de91b057-e008-436d-8787-86d6b45444e0"
      },
      "execution_count": 23,
      "outputs": [
        {
          "output_type": "execute_result",
          "data": {
            "text/plain": [
              "tensor(17., grad_fn=<AddBackward0>)"
            ]
          },
          "metadata": {},
          "execution_count": 23
        }
      ]
    },
    {
      "cell_type": "markdown",
      "source": [
        "The derivates of y w.r.t the input tensors are stored in the .grad property of the respective tensors."
      ],
      "metadata": {
        "id": "baW5JkSfBBKi"
      }
    },
    {
      "cell_type": "code",
      "source": [
        "type(x.grad)"
      ],
      "metadata": {
        "colab": {
          "base_uri": "https://localhost:8080/"
        },
        "id": "_59kq2KeA9bz",
        "outputId": "82b7384d-d899-4038-8ac6-a607a246cc68"
      },
      "execution_count": 24,
      "outputs": [
        {
          "output_type": "execute_result",
          "data": {
            "text/plain": [
              "NoneType"
            ]
          },
          "metadata": {},
          "execution_count": 24
        }
      ]
    },
    {
      "cell_type": "code",
      "source": [
        "x"
      ],
      "metadata": {
        "colab": {
          "base_uri": "https://localhost:8080/"
        },
        "id": "np-lMjGmBEk4",
        "outputId": "5cdfc4f0-c33a-4f64-b853-4a5a91677889"
      },
      "execution_count": 25,
      "outputs": [
        {
          "output_type": "execute_result",
          "data": {
            "text/plain": [
              "tensor(3.)"
            ]
          },
          "metadata": {},
          "execution_count": 25
        }
      ]
    },
    {
      "cell_type": "code",
      "source": [
        "type(w.grad), w.grad"
      ],
      "metadata": {
        "colab": {
          "base_uri": "https://localhost:8080/"
        },
        "id": "ppBXBDmEBHYu",
        "outputId": "4579d835-0619-4f21-f3d1-752a37c43b6d"
      },
      "execution_count": 26,
      "outputs": [
        {
          "output_type": "execute_result",
          "data": {
            "text/plain": [
              "(torch.Tensor, tensor(3.))"
            ]
          },
          "metadata": {},
          "execution_count": 26
        }
      ]
    },
    {
      "cell_type": "code",
      "source": [
        "_bias.grad"
      ],
      "metadata": {
        "colab": {
          "base_uri": "https://localhost:8080/"
        },
        "id": "GNCO2YawBJSG",
        "outputId": "4c89bb6a-80ba-4a82-ab7c-c55930b19019"
      },
      "execution_count": 27,
      "outputs": [
        {
          "output_type": "execute_result",
          "data": {
            "text/plain": [
              "tensor(1.)"
            ]
          },
          "metadata": {},
          "execution_count": 27
        }
      ]
    },
    {
      "cell_type": "code",
      "source": [
        "print('df/dx:', x.grad)\n",
        "print('df/dw:',w.grad)\n",
        "print('df/d_bias', _bias.grad)"
      ],
      "metadata": {
        "colab": {
          "base_uri": "https://localhost:8080/"
        },
        "id": "5QmlaTzVBoaD",
        "outputId": "441e94bb-e7d5-4032-dcfe-4c0d264ac4d3"
      },
      "execution_count": 28,
      "outputs": [
        {
          "output_type": "stream",
          "name": "stdout",
          "text": [
            "df/dx: None\n",
            "df/dw: tensor(3.)\n",
            "df/d_bias tensor(1.)\n"
          ]
        }
      ]
    },
    {
      "cell_type": "code",
      "source": [
        "import numpy as np\n"
      ],
      "metadata": {
        "id": "mKWlrbvrCAV5"
      },
      "execution_count": 29,
      "outputs": []
    },
    {
      "cell_type": "code",
      "source": [
        "x = np.array([[1,2], [3,4]])"
      ],
      "metadata": {
        "id": "wFrQV7-5CXxZ"
      },
      "execution_count": 30,
      "outputs": []
    },
    {
      "cell_type": "code",
      "source": [
        "x.shape, x"
      ],
      "metadata": {
        "colab": {
          "base_uri": "https://localhost:8080/"
        },
        "id": "incb-jQJCdWe",
        "outputId": "4442ecd7-32f0-443e-dc0c-92d5588015f7"
      },
      "execution_count": 31,
      "outputs": [
        {
          "output_type": "execute_result",
          "data": {
            "text/plain": [
              "((2, 2), array([[1, 2],\n",
              "        [3, 4]]))"
            ]
          },
          "metadata": {},
          "execution_count": 31
        }
      ]
    },
    {
      "cell_type": "code",
      "source": [
        "matrix_t = torch.from_numpy(x)"
      ],
      "metadata": {
        "id": "HYVLCmSMCd-8"
      },
      "execution_count": 32,
      "outputs": []
    },
    {
      "cell_type": "code",
      "source": [
        "matrix_t , type(matrix_t)"
      ],
      "metadata": {
        "colab": {
          "base_uri": "https://localhost:8080/"
        },
        "id": "fRecyavUCq7l",
        "outputId": "e303fe68-d69e-45c1-f502-e5d629e4bc0f"
      },
      "execution_count": 33,
      "outputs": [
        {
          "output_type": "execute_result",
          "data": {
            "text/plain": [
              "(tensor([[1, 2],\n",
              "         [3, 4]]), torch.Tensor)"
            ]
          },
          "metadata": {},
          "execution_count": 33
        }
      ]
    },
    {
      "cell_type": "markdown",
      "source": [
        "Let's verify that the numpy array and torch tensor have similar data types."
      ],
      "metadata": {
        "id": "VAiZ-wIzDXr-"
      }
    },
    {
      "cell_type": "code",
      "source": [
        "x.dtype, matrix_t.dtype"
      ],
      "metadata": {
        "colab": {
          "base_uri": "https://localhost:8080/"
        },
        "id": "dYSCjY1kCrrp",
        "outputId": "21f3b474-1586-48d1-bcdf-baba411c5656"
      },
      "execution_count": 34,
      "outputs": [
        {
          "output_type": "execute_result",
          "data": {
            "text/plain": [
              "(dtype('int64'), torch.int64)"
            ]
          },
          "metadata": {},
          "execution_count": 34
        }
      ]
    },
    {
      "cell_type": "markdown",
      "source": [
        "We can convert a PyTorch tensor to a Numpy array using the .numpy method of a tensor."
      ],
      "metadata": {
        "id": "9L4ePsa1DaTd"
      }
    },
    {
      "cell_type": "markdown",
      "source": [
        "The interoperability between PyTorch and Numpy is really important because most datasets you'll work with will likely be read and preprocessed as Numpy arrays."
      ],
      "metadata": {
        "id": "QMjbzZZGDeVK"
      }
    },
    {
      "cell_type": "code",
      "source": [
        "import jovian\n",
        "jovian.commit()"
      ],
      "metadata": {
        "colab": {
          "base_uri": "https://localhost:8080/"
        },
        "id": "BdLDD5vXC3ID",
        "outputId": "8a941a08-7a0e-44bf-f0e9-3359e3a84d03"
      },
      "execution_count": 35,
      "outputs": [
        {
          "output_type": "stream",
          "name": "stdout",
          "text": [
            "[jovian] Detected Colab notebook...\u001b[0m\n",
            "[jovian] jovian.commit() is no longer required on Google Colab. If you ran this notebook from Jovian, \n",
            "then just save this file in Colab using Ctrl+S/Cmd+S and it will be updated on Jovian. \n",
            "Also, you can also delete this cell, it's no longer necessary.\u001b[0m\n"
          ]
        }
      ]
    },
    {
      "cell_type": "code",
      "source": [
        "torch.tensor([[1., -1.], [1., -1.]])"
      ],
      "metadata": {
        "colab": {
          "base_uri": "https://localhost:8080/"
        },
        "id": "MMnQ3MhRDkHY",
        "outputId": "c70d48f0-a3e6-4e85-a381-3416616ef8f4"
      },
      "execution_count": 36,
      "outputs": [
        {
          "output_type": "execute_result",
          "data": {
            "text/plain": [
              "tensor([[ 1., -1.],\n",
              "        [ 1., -1.]])"
            ]
          },
          "metadata": {},
          "execution_count": 36
        }
      ]
    },
    {
      "cell_type": "code",
      "source": [
        " torch.tensor(np.array([[1, 2, 3], [4, 5, 6]]))\n",
        " "
      ],
      "metadata": {
        "colab": {
          "base_uri": "https://localhost:8080/"
        },
        "id": "XF7rzHUaE4hj",
        "outputId": "9a8b2bff-4f15-4d9b-a9cf-6bae72869ce9"
      },
      "execution_count": 37,
      "outputs": [
        {
          "output_type": "execute_result",
          "data": {
            "text/plain": [
              "tensor([[1, 2, 3],\n",
              "        [4, 5, 6]])"
            ]
          },
          "metadata": {},
          "execution_count": 37
        }
      ]
    },
    {
      "cell_type": "code",
      "source": [
        " torch.zeros([5, 5], dtype=torch.int32)"
      ],
      "metadata": {
        "colab": {
          "base_uri": "https://localhost:8080/"
        },
        "id": "jxCW6WxME6zg",
        "outputId": "599be548-408f-4401-b2fc-33b898c28113"
      },
      "execution_count": 38,
      "outputs": [
        {
          "output_type": "execute_result",
          "data": {
            "text/plain": [
              "tensor([[0, 0, 0, 0, 0],\n",
              "        [0, 0, 0, 0, 0],\n",
              "        [0, 0, 0, 0, 0],\n",
              "        [0, 0, 0, 0, 0],\n",
              "        [0, 0, 0, 0, 0]], dtype=torch.int32)"
            ]
          },
          "metadata": {},
          "execution_count": 38
        }
      ]
    },
    {
      "cell_type": "code",
      "source": [
        "cuda0 = torch.device('cuda:0')"
      ],
      "metadata": {
        "id": "VO7UZpJzE_4_"
      },
      "execution_count": 39,
      "outputs": []
    },
    {
      "cell_type": "code",
      "source": [
        "cuda0"
      ],
      "metadata": {
        "colab": {
          "base_uri": "https://localhost:8080/"
        },
        "id": "4-i6aL4rFIgl",
        "outputId": "cba99996-1dc5-4cdd-d1fb-81b69542b5f9"
      },
      "execution_count": 40,
      "outputs": [
        {
          "output_type": "execute_result",
          "data": {
            "text/plain": [
              "device(type='cuda', index=0)"
            ]
          },
          "metadata": {},
          "execution_count": 40
        }
      ]
    },
    {
      "cell_type": "code",
      "source": [
        "device = torch.device(\"cuda:0\")"
      ],
      "metadata": {
        "id": "fyk17tV6FeM_"
      },
      "execution_count": 41,
      "outputs": []
    },
    {
      "cell_type": "code",
      "source": [
        "k = torch.ones([2, 4], dtype=torch.float64, device=cuda0)"
      ],
      "metadata": {
        "id": "ETK1XKJ7FJ6L"
      },
      "execution_count": 42,
      "outputs": []
    },
    {
      "cell_type": "code",
      "source": [
        "k"
      ],
      "metadata": {
        "colab": {
          "base_uri": "https://localhost:8080/"
        },
        "id": "jcD_CHEbFPYD",
        "outputId": "c28e4430-ecc1-4270-aead-123cbeb58da0"
      },
      "execution_count": 43,
      "outputs": [
        {
          "output_type": "execute_result",
          "data": {
            "text/plain": [
              "tensor([[1., 1., 1., 1.],\n",
              "        [1., 1., 1., 1.]], device='cuda:0', dtype=torch.float64)"
            ]
          },
          "metadata": {},
          "execution_count": 43
        }
      ]
    },
    {
      "cell_type": "code",
      "source": [
        "type(k[0][0].item())"
      ],
      "metadata": {
        "colab": {
          "base_uri": "https://localhost:8080/"
        },
        "id": "cO-A8D27FzHP",
        "outputId": "36a9f5ee-f145-422a-dfac-9e9a8e2fb1fd"
      },
      "execution_count": 44,
      "outputs": [
        {
          "output_type": "execute_result",
          "data": {
            "text/plain": [
              "float"
            ]
          },
          "metadata": {},
          "execution_count": 44
        }
      ]
    },
    {
      "cell_type": "code",
      "source": [
        "x = torch.tensor([[1.,-1], [1,1]], requires_grad=True)"
      ],
      "metadata": {
        "id": "XGhZOl8wF8XS"
      },
      "execution_count": 45,
      "outputs": []
    },
    {
      "cell_type": "code",
      "source": [
        "out =  x.pow(2).sum()"
      ],
      "metadata": {
        "id": "bF0s2xA6Ggam"
      },
      "execution_count": 46,
      "outputs": []
    },
    {
      "cell_type": "code",
      "source": [
        "out.backward()"
      ],
      "metadata": {
        "id": "FYXnZmtbGlH4"
      },
      "execution_count": 47,
      "outputs": []
    },
    {
      "cell_type": "code",
      "source": [
        "x.grad"
      ],
      "metadata": {
        "colab": {
          "base_uri": "https://localhost:8080/"
        },
        "id": "k1A7QXNXGrQE",
        "outputId": "4e6a5c89-21df-4835-eb44-4c1e3d5e26f6"
      },
      "execution_count": 48,
      "outputs": [
        {
          "output_type": "execute_result",
          "data": {
            "text/plain": [
              "tensor([[ 2., -2.],\n",
              "        [ 2.,  2.]])"
            ]
          },
          "metadata": {},
          "execution_count": 48
        }
      ]
    },
    {
      "cell_type": "code",
      "source": [
        "x"
      ],
      "metadata": {
        "colab": {
          "base_uri": "https://localhost:8080/"
        },
        "id": "2U6qRQcLG2gA",
        "outputId": "99b76aa1-d654-4734-e2a0-896b6d2b33dc"
      },
      "execution_count": 49,
      "outputs": [
        {
          "output_type": "execute_result",
          "data": {
            "text/plain": [
              "tensor([[ 1., -1.],\n",
              "        [ 1.,  1.]], requires_grad=True)"
            ]
          },
          "metadata": {},
          "execution_count": 49
        }
      ]
    },
    {
      "cell_type": "code",
      "source": [
        "x.T"
      ],
      "metadata": {
        "colab": {
          "base_uri": "https://localhost:8080/"
        },
        "id": "o8JX0Xo5IHZU",
        "outputId": "9e8c796f-d11e-4ed2-fc7b-a309574ebd3d"
      },
      "execution_count": 50,
      "outputs": [
        {
          "output_type": "execute_result",
          "data": {
            "text/plain": [
              "tensor([[ 1.,  1.],\n",
              "        [-1.,  1.]], grad_fn=<PermuteBackward0>)"
            ]
          },
          "metadata": {},
          "execution_count": 50
        }
      ]
    },
    {
      "cell_type": "code",
      "source": [
        "x.H"
      ],
      "metadata": {
        "colab": {
          "base_uri": "https://localhost:8080/"
        },
        "id": "yHiJmwOrIIoa",
        "outputId": "ca22344f-acf5-4dbc-ecb8-595c3bd010af"
      },
      "execution_count": 51,
      "outputs": [
        {
          "output_type": "execute_result",
          "data": {
            "text/plain": [
              "tensor([[ 1.,  1.],\n",
              "        [-1.,  1.]], grad_fn=<TransposeBackward0>)"
            ]
          },
          "metadata": {},
          "execution_count": 51
        }
      ]
    },
    {
      "cell_type": "code",
      "source": [
        "x"
      ],
      "metadata": {
        "colab": {
          "base_uri": "https://localhost:8080/"
        },
        "id": "KQByDZoYILRc",
        "outputId": "bb56e1c5-f08c-4def-e828-a1061c943480"
      },
      "execution_count": 52,
      "outputs": [
        {
          "output_type": "execute_result",
          "data": {
            "text/plain": [
              "tensor([[ 1., -1.],\n",
              "        [ 1.,  1.]], requires_grad=True)"
            ]
          },
          "metadata": {},
          "execution_count": 52
        }
      ]
    },
    {
      "cell_type": "code",
      "source": [
        "y = x.new_tensor"
      ],
      "metadata": {
        "id": "0sH0iyq4RIkg"
      },
      "execution_count": 56,
      "outputs": []
    },
    {
      "cell_type": "code",
      "source": [
        "y = torch.tensor([1,2])"
      ],
      "metadata": {
        "id": "Eb35bjTeRdO5"
      },
      "execution_count": 58,
      "outputs": []
    },
    {
      "cell_type": "code",
      "source": [
        "y"
      ],
      "metadata": {
        "colab": {
          "base_uri": "https://localhost:8080/"
        },
        "id": "nLSD5OFgRjq0",
        "outputId": "dbefd19a-d671-44c8-e7fe-b080cbcde0c5"
      },
      "execution_count": 59,
      "outputs": [
        {
          "output_type": "execute_result",
          "data": {
            "text/plain": [
              "tensor([1, 2])"
            ]
          },
          "metadata": {},
          "execution_count": 59
        }
      ]
    },
    {
      "cell_type": "code",
      "source": [
        "x"
      ],
      "metadata": {
        "colab": {
          "base_uri": "https://localhost:8080/"
        },
        "id": "nn6amTMLRqKW",
        "outputId": "cfd24f78-8c94-41cf-a1f7-e7110e6452e6"
      },
      "execution_count": 60,
      "outputs": [
        {
          "output_type": "execute_result",
          "data": {
            "text/plain": [
              "tensor([[ 1., -1.],\n",
              "        [ 1.,  1.]], requires_grad=True)"
            ]
          },
          "metadata": {},
          "execution_count": 60
        }
      ]
    },
    {
      "cell_type": "code",
      "source": [
        "x.new_full((10,10),3.14)"
      ],
      "metadata": {
        "colab": {
          "base_uri": "https://localhost:8080/"
        },
        "id": "teAWc4mNRqyj",
        "outputId": "14c86460-901f-4452-a17e-ae869e90c23e"
      },
      "execution_count": 65,
      "outputs": [
        {
          "output_type": "execute_result",
          "data": {
            "text/plain": [
              "tensor([[3.1400, 3.1400, 3.1400, 3.1400, 3.1400, 3.1400, 3.1400, 3.1400, 3.1400,\n",
              "         3.1400],\n",
              "        [3.1400, 3.1400, 3.1400, 3.1400, 3.1400, 3.1400, 3.1400, 3.1400, 3.1400,\n",
              "         3.1400],\n",
              "        [3.1400, 3.1400, 3.1400, 3.1400, 3.1400, 3.1400, 3.1400, 3.1400, 3.1400,\n",
              "         3.1400],\n",
              "        [3.1400, 3.1400, 3.1400, 3.1400, 3.1400, 3.1400, 3.1400, 3.1400, 3.1400,\n",
              "         3.1400],\n",
              "        [3.1400, 3.1400, 3.1400, 3.1400, 3.1400, 3.1400, 3.1400, 3.1400, 3.1400,\n",
              "         3.1400],\n",
              "        [3.1400, 3.1400, 3.1400, 3.1400, 3.1400, 3.1400, 3.1400, 3.1400, 3.1400,\n",
              "         3.1400],\n",
              "        [3.1400, 3.1400, 3.1400, 3.1400, 3.1400, 3.1400, 3.1400, 3.1400, 3.1400,\n",
              "         3.1400],\n",
              "        [3.1400, 3.1400, 3.1400, 3.1400, 3.1400, 3.1400, 3.1400, 3.1400, 3.1400,\n",
              "         3.1400],\n",
              "        [3.1400, 3.1400, 3.1400, 3.1400, 3.1400, 3.1400, 3.1400, 3.1400, 3.1400,\n",
              "         3.1400],\n",
              "        [3.1400, 3.1400, 3.1400, 3.1400, 3.1400, 3.1400, 3.1400, 3.1400, 3.1400,\n",
              "         3.1400]])"
            ]
          },
          "metadata": {},
          "execution_count": 65
        }
      ]
    },
    {
      "cell_type": "code",
      "source": [
        "x"
      ],
      "metadata": {
        "colab": {
          "base_uri": "https://localhost:8080/"
        },
        "id": "wVasNEJYR1-L",
        "outputId": "37e9f700-a63f-4fd8-c968-7819f8254a56"
      },
      "execution_count": 66,
      "outputs": [
        {
          "output_type": "execute_result",
          "data": {
            "text/plain": [
              "tensor([[ 1., -1.],\n",
              "        [ 1.,  1.]], requires_grad=True)"
            ]
          },
          "metadata": {},
          "execution_count": 66
        }
      ]
    },
    {
      "cell_type": "code",
      "source": [
        "?x.new_empty"
      ],
      "metadata": {
        "id": "FLBmlbw2SJeN"
      },
      "execution_count": 68,
      "outputs": []
    },
    {
      "cell_type": "code",
      "source": [
        "tensor = torch.ones(())"
      ],
      "metadata": {
        "id": "jQH9tEcoSRKR"
      },
      "execution_count": 69,
      "outputs": []
    },
    {
      "cell_type": "code",
      "source": [
        "tensor.item()"
      ],
      "metadata": {
        "colab": {
          "base_uri": "https://localhost:8080/"
        },
        "id": "Olpq60nnSah_",
        "outputId": "69b91c8c-049f-436b-d551-ad204aa2ca17"
      },
      "execution_count": 73,
      "outputs": [
        {
          "output_type": "execute_result",
          "data": {
            "text/plain": [
              "1.0"
            ]
          },
          "metadata": {},
          "execution_count": 73
        }
      ]
    },
    {
      "cell_type": "code",
      "source": [
        "tensor.new_empty((10,10,10))"
      ],
      "metadata": {
        "colab": {
          "base_uri": "https://localhost:8080/"
        },
        "id": "VAON4-kdSbdS",
        "outputId": "6e475104-25f4-4602-e2e7-55f2f761648b"
      },
      "execution_count": 75,
      "outputs": [
        {
          "output_type": "execute_result",
          "data": {
            "text/plain": [
              "tensor([[[ 1.4013e-45,  0.0000e+00,  1.1228e+03,  0.0000e+00,  3.3631e-44,\n",
              "                  nan,  5.3989e-07,  4.5799e-41,  1.4013e-45,  4.5799e-41],\n",
              "         [ 0.0000e+00,  0.0000e+00,  1.4013e-45,  0.0000e+00,  1.4013e-45,\n",
              "           8.4078e-45,  2.9427e-44,  0.0000e+00,  1.1227e+03,  0.0000e+00],\n",
              "         [ 3.5732e-12,  4.5799e-41,  1.4013e-45,         nan,  1.4013e-45,\n",
              "           0.0000e+00,  1.4013e-45,  2.2421e-44,  1.4013e-45,  0.0000e+00],\n",
              "         [ 1.1228e+03,  0.0000e+00,  4.2039e-45,  0.0000e+00,  1.1227e+03,\n",
              "           0.0000e+00,  1.1228e+03,  0.0000e+00,  1.1228e+03,  0.0000e+00],\n",
              "         [ 2.8026e-44,  0.0000e+00,  1.3723e-38,  0.0000e+00,  0.0000e+00,\n",
              "           0.0000e+00,  1.3723e-38,  0.0000e+00,  1.4013e-45,  2.5223e-44],\n",
              "         [ 1.4013e-45,  2.8026e-44,  2.8026e-44,  2.5223e-44,  1.3723e-38,\n",
              "           0.0000e+00,  0.0000e+00,  0.0000e+00,  1.3723e-38,  0.0000e+00],\n",
              "         [ 1.4013e-45,  2.9427e-44,  1.4013e-45,  3.2230e-44,  2.8026e-44,\n",
              "           2.9427e-44,  1.3723e-38,  0.0000e+00,  0.0000e+00,  0.0000e+00],\n",
              "         [ 1.3723e-38,  0.0000e+00,  1.4013e-45,  3.3631e-44,  1.4013e-45,\n",
              "           3.6434e-44,  2.8026e-44,  3.3631e-44,  5.2343e-04,  4.5797e-41],\n",
              "         [ 1.4013e-45,  4.5799e-41,  1.1227e+03,  0.0000e+00,  1.4013e-45,\n",
              "           2.3822e-44,  1.4013e-45,  3.7835e-44,  0.0000e+00,  0.0000e+00],\n",
              "         [ 0.0000e+00,  0.0000e+00,  2.3822e-44,  0.0000e+00,  1.1227e+03,\n",
              "           0.0000e+00,  1.1227e+03,  0.0000e+00,  1.1228e+03,  0.0000e+00]],\n",
              "\n",
              "        [[ 1.4013e-45,  0.0000e+00,  1.4013e-45,  3.9236e-44,  3.0829e-44,\n",
              "           4.5797e-41,  1.1228e+03,  0.0000e+00,  0.0000e+00,  0.0000e+00],\n",
              "         [ 8.4078e-45,  0.0000e+00,  4.2039e-45,  0.0000e+00,  0.0000e+00,\n",
              "           0.0000e+00,  1.4013e-45,  0.0000e+00,  1.4013e-45,  0.0000e+00],\n",
              "         [ 1.4013e-45,  3.9236e-44,  2.8026e-45,  0.0000e+00,  1.1227e+03,\n",
              "           0.0000e+00,  1.4013e-45,  0.0000e+00,  1.1227e+03,  0.0000e+00],\n",
              "         [ 1.1228e+03,  0.0000e+00,  0.0000e+00,  0.0000e+00,  1.4013e-45,\n",
              "           0.0000e+00,  7.0625e-43,  0.0000e+00,  1.4013e-44,  0.0000e+00],\n",
              "         [-4.1464e-38,  4.5797e-41,  7.1665e-38,  0.0000e+00,  0.0000e+00,\n",
              "           0.0000e+00,  0.0000e+00,  0.0000e+00,  0.0000e+00,  0.0000e+00],\n",
              "         [ 0.0000e+00,  0.0000e+00,  1.4013e-45,  0.0000e+00,  0.0000e+00,\n",
              "           0.0000e+00,  0.0000e+00,  0.0000e+00,  0.0000e+00,  0.0000e+00],\n",
              "         [ 0.0000e+00,  0.0000e+00,  0.0000e+00,  0.0000e+00,  0.0000e+00,\n",
              "           0.0000e+00,  0.0000e+00,  0.0000e+00,  0.0000e+00,  0.0000e+00],\n",
              "         [ 5.2616e-04,  4.5797e-41,  0.0000e+00,  0.0000e+00,  6.0536e-43,\n",
              "           0.0000e+00,  2.8026e-45,  0.0000e+00,  5.2616e-04,  4.5797e-41],\n",
              "         [ 9.2564e-38,  0.0000e+00,  0.0000e+00,  0.0000e+00,  3.6434e-44,\n",
              "           0.0000e+00,         nan,         nan,  0.0000e+00,  0.0000e+00],\n",
              "         [ 1.4013e-45,  0.0000e+00,  1.0201e-42,  0.0000e+00,  1.2612e-44,\n",
              "           0.0000e+00,  5.2616e-04,  4.5797e-41,  9.2564e-38,  0.0000e+00]],\n",
              "\n",
              "        [[ 1.4013e-45,  0.0000e+00,  3.6434e-44,  0.0000e+00,         nan,\n",
              "                  nan,  5.3638e-04,  4.5797e-41,  1.4013e-45,  0.0000e+00],\n",
              "         [ 1.1210e-42,  0.0000e+00,  4.2039e-45,  0.0000e+00,  5.2616e-04,\n",
              "           4.5797e-41,  9.2583e-38,  0.0000e+00,  0.0000e+00,  0.0000e+00],\n",
              "         [ 0.0000e+00,  0.0000e+00,  0.0000e+00,  0.0000e+00,  0.0000e+00,\n",
              "           0.0000e+00,  1.4013e-45,  0.0000e+00,  0.0000e+00,  0.0000e+00],\n",
              "         [ 5.2616e-04,  4.5797e-41,  0.0000e+00,  0.0000e+00,  0.0000e+00,\n",
              "           0.0000e+00,  0.0000e+00,  0.0000e+00,  0.0000e+00,  0.0000e+00],\n",
              "         [ 0.0000e+00,  0.0000e+00,  0.0000e+00,  0.0000e+00,  0.0000e+00,\n",
              "           0.0000e+00,  0.0000e+00,  0.0000e+00,  0.0000e+00,  0.0000e+00],\n",
              "         [ 0.0000e+00,  0.0000e+00,  0.0000e+00,  0.0000e+00,  0.0000e+00,\n",
              "           0.0000e+00,  0.0000e+00,  0.0000e+00,  0.0000e+00,  0.0000e+00],\n",
              "         [ 0.0000e+00,  0.0000e+00,  5.2616e-04,  4.5797e-41,  5.2616e-04,\n",
              "           4.5797e-41,  1.1210e-42,  0.0000e+00,  2.8026e-45,  0.0000e+00],\n",
              "         [ 5.2616e-04,  4.5797e-41,  9.2564e-38,  0.0000e+00,  2.4821e-41,\n",
              "           0.0000e+00,  4.2333e+08,  4.5799e-41,  4.2333e+08,  4.5799e-41],\n",
              "         [ 0.0000e+00,  0.0000e+00,  0.0000e+00,  0.0000e+00,  1.5358e-42,\n",
              "           0.0000e+00,  1.2612e-44,  0.0000e+00,  5.2616e-04,  4.5797e-41],\n",
              "         [ 9.2564e-38,  0.0000e+00,  1.9266e+08,  4.5799e-41,  5.4534e-04,\n",
              "           4.5797e-41,  2.1714e+08,  4.5799e-41,  1.9266e+08,  4.5799e-41]],\n",
              "\n",
              "        [[ 1.4013e-45,  4.5797e-41,  1.9266e+08,  4.5799e-41,  5.4536e-04,\n",
              "           4.5797e-41,  2.1714e+08,  4.5799e-41,  1.9266e+08,  4.5799e-41],\n",
              "         [ 2.1714e+08,  4.5799e-41,  5.4527e-04,  4.5797e-41,  1.9266e+08,\n",
              "           4.5799e-41,  5.4534e-04,  4.5797e-41,  1.9266e+08,  4.5799e-41],\n",
              "         [ 5.4531e-04,  4.5797e-41,  1.9266e+08,  4.5799e-41,  5.4530e-04,\n",
              "           4.5797e-41,  1.9266e+08,  4.5799e-41,  5.4544e-04,  4.5797e-41],\n",
              "         [ 1.9266e+08,  4.5799e-41,  5.4543e-04,  4.5797e-41,  1.9266e+08,\n",
              "           4.5799e-41,  5.4536e-04,  4.5797e-41,  1.9266e+08,  4.5799e-41],\n",
              "         [ 5.4541e-04,  4.5797e-41,  1.9266e+08,  4.5799e-41,  1.0010e-03,\n",
              "           4.5797e-41,  1.9266e+08,  4.5799e-41,  2.1714e+08,  4.5799e-41],\n",
              "         [ 1.0012e-03,  4.5797e-41,  1.9266e+08,  4.5799e-41,  5.4357e-04,\n",
              "           4.5797e-41,  1.9266e+08,  4.5799e-41,  5.2034e-04,  4.5797e-41],\n",
              "         [ 1.9266e+08,  4.5799e-41, -1.7420e-35,  4.5797e-41,  2.1714e+08,\n",
              "           4.5799e-41,  1.9266e+08,  4.5799e-41,  5.2034e-04,  4.5797e-41],\n",
              "         [ 1.9266e+08,  4.5799e-41, -1.7416e-35,  4.5797e-41,  2.1714e+08,\n",
              "           4.5799e-41,  1.9266e+08,  4.5799e-41,  2.1714e+08,  4.5799e-41],\n",
              "         [-1.7416e-35,  4.5797e-41,  1.9266e+08,  4.5799e-41, -1.7418e-35,\n",
              "           4.5797e-41,  1.9266e+08,  4.5799e-41, -1.7418e-35,  4.5797e-41],\n",
              "         [ 1.9266e+08,  4.5799e-41,  5.2033e-04,  4.5797e-41,  1.9266e+08,\n",
              "           4.5799e-41,  5.4214e-04,  4.5797e-41,  1.9266e+08,  4.5799e-41]],\n",
              "\n",
              "        [[ 5.4197e-04,  4.5797e-41,  1.9266e+08,  4.5799e-41,  5.4201e-04,\n",
              "           4.5797e-41,  1.9266e+08,  4.5799e-41,  5.4216e-04,  4.5797e-41],\n",
              "         [ 1.9266e+08,  4.5799e-41,  5.4198e-04,  4.5797e-41,  1.9266e+08,\n",
              "           4.5799e-41,  2.1714e+08,  4.5799e-41,  5.4206e-04,  4.5797e-41],\n",
              "         [ 1.9266e+08,  4.5799e-41,  5.4431e-04,  4.5797e-41,  1.9266e+08,\n",
              "           4.5799e-41,  5.2036e-04,  4.5797e-41,  1.9266e+08,  4.5799e-41],\n",
              "         [ 5.4198e-04,  4.5797e-41,  2.1714e+08,  4.5799e-41,  1.9266e+08,\n",
              "           4.5799e-41,  5.2035e-04,  4.5797e-41,  1.9266e+08,  4.5799e-41],\n",
              "         [ 5.4203e-04,  4.5797e-41,  2.1714e+08,  4.5799e-41,  1.9266e+08,\n",
              "           4.5799e-41,  2.1714e+08,  4.5799e-41,  5.4204e-04,  4.5797e-41],\n",
              "         [ 1.9266e+08,  4.5799e-41,  5.4199e-04,  4.5797e-41,  1.9266e+08,\n",
              "           4.5799e-41,  5.4200e-04,  4.5797e-41,  1.9266e+08,  4.5799e-41],\n",
              "         [ 5.4204e-04,  4.5797e-41,  1.9266e+08,  4.5799e-41,  5.4197e-04,\n",
              "           4.5797e-41,  1.9266e+08,  4.5799e-41,  5.4216e-04,  4.5797e-41],\n",
              "         [ 1.9266e+08,  4.5799e-41,  5.4203e-04,  4.5797e-41,  1.9266e+08,\n",
              "           4.5799e-41,  5.4214e-04,  4.5797e-41,  1.9266e+08,  4.5799e-41],\n",
              "         [ 5.4202e-04,  4.5797e-41,  1.9266e+08,  4.5799e-41,  2.1714e+08,\n",
              "           4.5799e-41,  5.4194e-04,  4.5797e-41,  1.9266e+08,  4.5799e-41],\n",
              "         [ 5.1823e-04,  4.5797e-41,  1.9266e+08,  4.5799e-41,  5.2029e-04,\n",
              "           4.5797e-41,  1.9266e+08,  4.5799e-41,  5.4205e-04,  4.5797e-41]],\n",
              "\n",
              "        [[ 2.1714e+08,  4.5799e-41,  1.9266e+08,  4.5799e-41,  5.2024e-04,\n",
              "           4.5797e-41,  1.9266e+08,  4.5799e-41,  5.3908e-04,  4.5797e-41],\n",
              "         [ 2.1714e+08,  4.5799e-41,  1.9266e+08,  4.5799e-41,  2.1714e+08,\n",
              "           4.5799e-41,  5.3929e-04,  4.5797e-41,  1.9266e+08,  4.5799e-41],\n",
              "         [ 5.3914e-04,  4.5797e-41,  1.9266e+08,  4.5799e-41,  5.3928e-04,\n",
              "           4.5797e-41,  1.9266e+08,  4.5799e-41,  5.3916e-04,  4.5797e-41],\n",
              "         [ 1.9266e+08,  4.5799e-41,  5.3916e-04,  4.5797e-41,  1.9266e+08,\n",
              "           4.5799e-41,  5.3907e-04,  4.5797e-41,  1.9266e+08,  4.5799e-41],\n",
              "         [ 5.3915e-04,  4.5797e-41,  1.9266e+08,  4.5799e-41,  5.3907e-04,\n",
              "           4.5797e-41,  1.9266e+08,  4.5799e-41,  5.3929e-04,  4.5797e-41],\n",
              "         [ 1.9266e+08,  4.5799e-41,  2.1714e+08,  4.5799e-41,  5.3915e-04,\n",
              "           4.5797e-41,  1.9266e+08,  4.5799e-41,  5.2023e-04,  4.5797e-41],\n",
              "         [ 1.9266e+08,  4.5799e-41,  5.2025e-04,  4.5797e-41,  1.9266e+08,\n",
              "           4.5799e-41, -4.2600e-38,  4.5797e-41,  2.1714e+08,  4.5799e-41],\n",
              "         [ 1.9266e+08,  4.5799e-41,  5.2025e-04,  4.5797e-41,  1.9266e+08,\n",
              "           4.5799e-41, -4.2592e-38,  4.5797e-41,  2.1714e+08,  4.5799e-41],\n",
              "         [ 1.9266e+08,  4.5799e-41,  2.1714e+08,  4.5799e-41, -4.2600e-38,\n",
              "           4.5797e-41,  1.9266e+08,  4.5799e-41, -4.2596e-38,  4.5797e-41],\n",
              "         [ 1.9266e+08,  4.5799e-41, -4.2595e-38,  4.5797e-41,  1.9266e+08,\n",
              "           4.5799e-41,  5.2026e-04,  4.5797e-41,  1.9266e+08,  4.5799e-41]],\n",
              "\n",
              "        [[-4.2597e-38,  4.5797e-41,  1.9266e+08,  4.5799e-41, -4.2595e-38,\n",
              "           4.5797e-41,  1.9266e+08,  4.5799e-41, -4.2590e-38,  4.5797e-41],\n",
              "         [ 2.2938e-41,  0.0000e+00,  4.2333e+08,  4.5799e-41,  4.2333e+08,\n",
              "           4.5799e-41,  0.0000e+00,  0.0000e+00,  0.0000e+00,  0.0000e+00],\n",
              "         [ 2.1714e+08,  4.5799e-41, -4.2597e-38,  4.5797e-41,  1.9266e+08,\n",
              "           4.5799e-41,  5.2026e-04,  4.5797e-41,  1.9266e+08,  4.5799e-41],\n",
              "         [ 5.2026e-04,  4.5797e-41,  1.9266e+08,  4.5799e-41, -4.4200e-38,\n",
              "           4.5797e-41,  2.1714e+08,  4.5799e-41,  1.9266e+08,  4.5799e-41],\n",
              "         [ 5.2027e-04,  4.5797e-41,  1.9266e+08,  4.5799e-41, -4.4198e-38,\n",
              "           4.5797e-41,  2.1714e+08,  4.5799e-41,  2.1716e+08,  4.5799e-41],\n",
              "         [ 1.9266e+08,  4.5799e-41, -4.4201e-38,  4.5797e-41,  1.9266e+08,\n",
              "           4.5799e-41, -4.4198e-38,  4.5797e-41,  2.1714e+08,  4.5799e-41],\n",
              "         [ 1.9266e+08,  4.5799e-41, -4.4204e-38,  4.5797e-41,  1.9266e+08,\n",
              "           4.5799e-41, -4.4196e-38,  4.5797e-41,  1.9266e+08,  4.5799e-41],\n",
              "         [-4.4196e-38,  4.5797e-41,  1.9266e+08,  4.5799e-41, -4.4197e-38,\n",
              "           4.5797e-41,  2.1714e+08,  4.5799e-41,  1.7664e-04,  2.6219e-09],\n",
              "         [ 2.0190e-19,  1.3563e-19,  1.3563e-19,  2.6511e-09,  1.3029e-11,\n",
              "           1.4586e-19,  1.0799e-05,  1.3030e-11,  1.4585e-19,  6.5185e-10],\n",
              "         [ 8.1437e-13,  1.4588e-19,  1.0799e-05,  1.3030e-11,  3.1433e-12,\n",
              "           1.3589e-19,  1.3563e-19,  3.1887e-09,  6.6754e-07,  1.6149e-07]],\n",
              "\n",
              "        [[ 5.8270e-10,  6.4097e-10,  2.2422e-41,  0.0000e+00,  5.0243e+02,\n",
              "           0.0000e+00,  4.2333e+08,  4.5799e-41,  0.0000e+00,  0.0000e+00],\n",
              "         [ 0.0000e+00,  0.0000e+00,  1.4917e-07,  1.7472e-04,  1.6149e-07,\n",
              "           1.7035e+28,  1.3563e-19,  1.3563e-19,  6.4894e-07,  5.4071e+22],\n",
              "         [ 2.5323e-12,  6.4896e-07,  5.4668e+22,  2.5182e-12,  2.5352e-09,\n",
              "           5.2891e+22,  2.6033e-12,  6.4896e-07,  5.4668e+22,  7.9806e+17],\n",
              "         [ 1.3472e+37,  3.1360e+27,  1.6636e+22,  3.0555e-18,  2.0863e+37,\n",
              "           4.7851e+22,  2.8826e+32,  1.8524e+28,  3.0346e+32,  6.1972e-04],\n",
              "         [ 4.2151e-42,  0.0000e+00,  2.1300e-42,  0.0000e+00,  0.0000e+00,\n",
              "           0.0000e+00,  1.3294e-38,  0.0000e+00,  2.0683e-42,  0.0000e+00],\n",
              "         [        nan,         nan,  2.6302e+20,  6.1943e-04,  5.1492e+31,\n",
              "           2.2234e-10,  1.7033e+25,  1.5766e-19,  1.7753e+28,  1.3458e-14],\n",
              "         [ 4.0781e-11,  4.3118e-08,  1.0313e-08,  4.0956e-11,  1.7664e-04,\n",
              "           2.6219e-09,  4.0728e-11,  4.2248e-05,  1.0313e-08,  4.0956e-11],\n",
              "         [ 1.7664e-04,  2.6219e-09,  4.0728e-11,  1.0606e-08,  1.0313e-08,\n",
              "           4.0956e-11,  1.7664e-04,  2.6219e-09,  2.0190e-19,  1.3563e-19],\n",
              "         [ 1.3563e-19,  1.0740e-05,  8.1428e-13,  1.4587e-19,  1.0799e-05,\n",
              "           1.3030e-11,  1.4585e-19,  6.5185e-10,  8.1424e-13,  1.4588e-19],\n",
              "         [ 1.0799e-05,  1.3030e-11,  3.1433e-12,  1.3589e-19,  1.3563e-19,\n",
              "           1.2755e-08,  6.7127e-07,  6.2353e-10,  1.4917e-07,  1.7472e-04]],\n",
              "\n",
              "        [[ 1.6149e-07,  9.3233e-09,  1.0502e-05,  6.2353e-10,  1.4917e-07,\n",
              "           1.7472e-04,  1.6149e-07,  9.3233e-09,  4.2009e-05,  6.2353e-10],\n",
              "         [ 1.4917e-07,  1.7472e-04,  1.6149e-07,  1.7035e+28,  1.3563e-19,\n",
              "           1.3563e-19,  1.0383e-05,  5.3481e+22,  2.5323e-12,  6.4896e-07],\n",
              "         [ 5.4668e+22,  2.5182e-12,  2.5352e-09,  5.4373e+22,  2.6033e-12,\n",
              "           6.4896e-07,  5.4668e+22,  7.9806e+17,  2.0190e-19,  1.3563e-19],\n",
              "         [ 4.5071e+16,  6.6005e-07,  8.1434e-13,  1.4587e-19,  1.0799e-05,\n",
              "           1.3030e-11,  1.4585e-19,  2.6511e-09,  1.3029e-11,  1.4586e-19],\n",
              "         [ 1.0799e-05,  1.3030e-11,  1.4585e-19,  6.8240e-07,  1.3028e-11,\n",
              "           1.4586e-19,  1.0799e-05,  1.3030e-11,  1.9387e+17,  1.3563e-19],\n",
              "         [ 1.3563e-19,  4.0728e-11,  1.0979e-05,  1.0313e-08,  4.0956e-11,\n",
              "           1.7664e-04,  2.6219e-09,  4.0274e-11,  4.3126e-08,  1.0313e-08],\n",
              "         [ 4.0956e-11,  1.7664e-04,  2.6219e-09,  1.7035e+28,  1.3563e-19,\n",
              "           1.3563e-19,  2.5958e-06,  5.2002e+22,  2.5323e-12,  6.4896e-07],\n",
              "         [ 5.4668e+22,  2.5182e-12,  4.1531e-05,  5.4363e+22,  2.6175e-12,\n",
              "           6.4896e-07,  5.4668e+22,  2.5182e-12,  6.4894e-07,  5.3186e+22],\n",
              "         [ 2.5323e-12,  6.4896e-07,  5.4668e+22,  2.5182e-12,  1.3589e-19,\n",
              "           1.3563e-19,  9.3205e-09,  1.6804e-04,  6.2353e-10,  1.4917e-07],\n",
              "         [ 1.7472e-04,  1.6149e-07,  3.7293e-08,  1.6996e-04,  2.5232e-09,\n",
              "           1.4917e-07,  1.7472e-04,  1.6149e-07,  1.9406e+17,  1.3563e-19]],\n",
              "\n",
              "        [[ 1.3563e-19,  4.0553e-11,  1.0861e-05,  4.2002e-05,  4.0956e-11,\n",
              "           1.7664e-04,  2.6219e-09,  4.1865e-11,  1.0606e-08,  1.0501e-05],\n",
              "         [ 4.0956e-11,  1.7664e-04,  2.6219e-09,  4.1865e-11,  6.5923e-10,\n",
              "           1.0501e-05,  4.0956e-11,  1.7664e-04,  2.6219e-09,  2.0190e-19],\n",
              "         [ 1.3563e-19,  1.3563e-19,  6.5185e-10,  8.1424e-13,  1.4588e-19,\n",
              "           1.0799e-05,  1.3030e-11,  1.4585e-19,  1.0799e-05,  1.3029e-11],\n",
              "         [ 1.4586e-19,  1.0799e-05,  1.3030e-11,  3.1433e-12,  1.3589e-19,\n",
              "           1.3563e-19,  5.1019e-08,  1.6996e-04,  2.5232e-09,  1.4917e-07],\n",
              "         [ 1.7472e-04,  1.6149e-07,  3.8188e-05,  4.1954e-08,  6.2353e-10,\n",
              "           1.4917e-07,  1.7472e-04,  1.6149e-07,  3.8188e-05,  4.2187e-08],\n",
              "         [ 6.2353e-10,  1.4917e-07,  1.7472e-04,  1.6149e-07,  1.7035e+28,\n",
              "           1.3563e-19,  1.3563e-19,  6.4894e-07,  5.4661e+22,  2.5323e-12],\n",
              "         [ 6.4896e-07,  5.4668e+22,  2.5182e-12,  6.4903e-07,  5.3479e+22,\n",
              "           2.5181e-12,  6.4896e-07,  5.4668e+22,  7.9806e+17,  2.0190e-19],\n",
              "         [ 1.3563e-19,  4.5071e+16,  6.6005e-07,  8.1425e-13,  1.4587e-19,\n",
              "           1.0799e-05,  1.3030e-11,  1.4585e-19,  6.5185e-10,  8.1431e-13],\n",
              "         [ 1.4588e-19,  1.0799e-05,  1.3030e-11,  1.4585e-19,  2.6511e-09,\n",
              "           1.3029e-11,  1.4586e-19,  1.0799e-05,  1.3030e-11,  1.9387e+17],\n",
              "         [ 1.3563e-19,  1.3563e-19,  4.0728e-11,  1.0489e-08,  1.0313e-08,\n",
              "           4.0956e-11,  1.7664e-04,  2.6219e-09,  4.0728e-11,  6.5923e-10]]])"
            ]
          },
          "metadata": {},
          "execution_count": 75
        }
      ]
    },
    {
      "cell_type": "code",
      "source": [
        "?x.is_cuda"
      ],
      "metadata": {
        "id": "tonr6MMuSqe-"
      },
      "execution_count": 78,
      "outputs": []
    },
    {
      "cell_type": "code",
      "source": [
        "x.is_cuda"
      ],
      "metadata": {
        "colab": {
          "base_uri": "https://localhost:8080/"
        },
        "id": "weDyuRscS1vr",
        "outputId": "19936cd8-4884-4769-dfd3-c2f3a09b426c"
      },
      "execution_count": 79,
      "outputs": [
        {
          "output_type": "execute_result",
          "data": {
            "text/plain": [
              "False"
            ]
          },
          "metadata": {},
          "execution_count": 79
        }
      ]
    },
    {
      "cell_type": "code",
      "source": [
        "k"
      ],
      "metadata": {
        "colab": {
          "base_uri": "https://localhost:8080/"
        },
        "id": "S3y4Fbn_S__a",
        "outputId": "4bd234c5-de76-45c2-9e6d-a07ef41bf1df"
      },
      "execution_count": 80,
      "outputs": [
        {
          "output_type": "execute_result",
          "data": {
            "text/plain": [
              "tensor([[1., 1., 1., 1.],\n",
              "        [1., 1., 1., 1.]], device='cuda:0', dtype=torch.float64)"
            ]
          },
          "metadata": {},
          "execution_count": 80
        }
      ]
    },
    {
      "cell_type": "code",
      "source": [
        "k.is_cuda"
      ],
      "metadata": {
        "colab": {
          "base_uri": "https://localhost:8080/"
        },
        "id": "OCDq67zrTEqR",
        "outputId": "2644f72e-882e-4a1d-8e41-05b8b46e79c8"
      },
      "execution_count": 81,
      "outputs": [
        {
          "output_type": "execute_result",
          "data": {
            "text/plain": [
              "True"
            ]
          },
          "metadata": {},
          "execution_count": 81
        }
      ]
    },
    {
      "cell_type": "code",
      "source": [
        "?x.is_quantized"
      ],
      "metadata": {
        "id": "_y2jPF_tTGXV"
      },
      "execution_count": 83,
      "outputs": []
    },
    {
      "cell_type": "code",
      "source": [
        "import torch\n",
        "\n",
        "# Create a tensor on the CPU\n",
        "x = torch.tensor([1, 2, 3], dtype=torch.float32)\n",
        "print(x.device) # prints: device('cpu')\n",
        "\n",
        "# Transfer the tensor to a GPU\n",
        "if torch.cuda.is_available():\n",
        "    x = x.to('cuda')\n",
        "    print(x.device) # prints: device('cuda:0')\n"
      ],
      "metadata": {
        "colab": {
          "base_uri": "https://localhost:8080/"
        },
        "id": "tt9yRLklTKq1",
        "outputId": "19851a29-fd41-41c4-aa4d-1cfbd8bcdeda"
      },
      "execution_count": 84,
      "outputs": [
        {
          "output_type": "stream",
          "name": "stdout",
          "text": [
            "cpu\n",
            "cuda:0\n"
          ]
        }
      ]
    },
    {
      "cell_type": "code",
      "source": [
        "x.to('cuda')"
      ],
      "metadata": {
        "colab": {
          "base_uri": "https://localhost:8080/"
        },
        "id": "BQ3Xt5K0UvHt",
        "outputId": "1bd63fed-b89d-4e0e-bb6e-a4921d70192b"
      },
      "execution_count": 86,
      "outputs": [
        {
          "output_type": "execute_result",
          "data": {
            "text/plain": [
              "tensor([1., 2., 3.], device='cuda:0')"
            ]
          },
          "metadata": {},
          "execution_count": 86
        }
      ]
    },
    {
      "cell_type": "code",
      "source": [
        "x.new_empty"
      ],
      "metadata": {
        "colab": {
          "base_uri": "https://localhost:8080/"
        },
        "id": "m-0lFyZOU2Z9",
        "outputId": "63284786-81a3-414e-8091-96edb36dd37d"
      },
      "execution_count": 88,
      "outputs": [
        {
          "output_type": "execute_result",
          "data": {
            "text/plain": [
              "<function Tensor.new_empty>"
            ]
          },
          "metadata": {},
          "execution_count": 88
        }
      ]
    },
    {
      "cell_type": "code",
      "source": [
        "x"
      ],
      "metadata": {
        "colab": {
          "base_uri": "https://localhost:8080/"
        },
        "id": "4R_iwKZGU9fF",
        "outputId": "5d220f00-8382-4541-ebcf-519752df9695"
      },
      "execution_count": 89,
      "outputs": [
        {
          "output_type": "execute_result",
          "data": {
            "text/plain": [
              "tensor([1., 2., 3.], device='cuda:0')"
            ]
          },
          "metadata": {},
          "execution_count": 89
        }
      ]
    },
    {
      "cell_type": "code",
      "source": [
        "x.ndim"
      ],
      "metadata": {
        "colab": {
          "base_uri": "https://localhost:8080/"
        },
        "id": "BdrMeMC7VCYT",
        "outputId": "3afcdd76-5bda-4521-9f59-c24bd1aa44e1"
      },
      "execution_count": 91,
      "outputs": [
        {
          "output_type": "execute_result",
          "data": {
            "text/plain": [
              "1"
            ]
          },
          "metadata": {},
          "execution_count": 91
        }
      ]
    },
    {
      "cell_type": "code",
      "source": [
        "k.ndim"
      ],
      "metadata": {
        "colab": {
          "base_uri": "https://localhost:8080/"
        },
        "id": "t2IxEWTEVI-E",
        "outputId": "b43ce7dd-8c6f-4bc6-951a-fa23aefe24e1"
      },
      "execution_count": 93,
      "outputs": [
        {
          "output_type": "execute_result",
          "data": {
            "text/plain": [
              "2"
            ]
          },
          "metadata": {},
          "execution_count": 93
        }
      ]
    },
    {
      "cell_type": "code",
      "source": [
        "c = torch.randn(4,dtype=torch.cfloat)"
      ],
      "metadata": {
        "id": "PPnty9DiVLIf"
      },
      "execution_count": 94,
      "outputs": []
    },
    {
      "cell_type": "code",
      "source": [
        "c"
      ],
      "metadata": {
        "colab": {
          "base_uri": "https://localhost:8080/"
        },
        "id": "KvAj7YNvVimU",
        "outputId": "b510a6bd-65cf-4763-98b4-5d3c559e839b"
      },
      "execution_count": 95,
      "outputs": [
        {
          "output_type": "execute_result",
          "data": {
            "text/plain": [
              "tensor([-1.2550+1.0104j, -0.2099-0.6871j,  1.0479-0.7040j,  0.3967-0.5999j])"
            ]
          },
          "metadata": {},
          "execution_count": 95
        }
      ]
    },
    {
      "cell_type": "code",
      "source": [
        "c.real"
      ],
      "metadata": {
        "colab": {
          "base_uri": "https://localhost:8080/"
        },
        "id": "7Gq_x37QVjLq",
        "outputId": "f70d3103-3410-476d-dc77-f30d30ea7a96"
      },
      "execution_count": 96,
      "outputs": [
        {
          "output_type": "execute_result",
          "data": {
            "text/plain": [
              "tensor([-1.2550, -0.2099,  1.0479,  0.3967])"
            ]
          },
          "metadata": {},
          "execution_count": 96
        }
      ]
    },
    {
      "cell_type": "code",
      "source": [
        "c.imag"
      ],
      "metadata": {
        "colab": {
          "base_uri": "https://localhost:8080/"
        },
        "id": "piO06nOQVl_f",
        "outputId": "04313569-38d7-4f46-a2b7-608fb36c6976"
      },
      "execution_count": 98,
      "outputs": [
        {
          "output_type": "execute_result",
          "data": {
            "text/plain": [
              "tensor([ 1.0104, -0.6871, -0.7040, -0.5999])"
            ]
          },
          "metadata": {},
          "execution_count": 98
        }
      ]
    },
    {
      "cell_type": "code",
      "source": [
        "c"
      ],
      "metadata": {
        "colab": {
          "base_uri": "https://localhost:8080/"
        },
        "id": "fD0CsDwcVt3N",
        "outputId": "e41470d6-6153-402c-be54-c2df69eb4e8e"
      },
      "execution_count": 99,
      "outputs": [
        {
          "output_type": "execute_result",
          "data": {
            "text/plain": [
              "tensor([-1.2550+1.0104j, -0.2099-0.6871j,  1.0479-0.7040j,  0.3967-0.5999j])"
            ]
          },
          "metadata": {},
          "execution_count": 99
        }
      ]
    },
    {
      "cell_type": "code",
      "source": [
        "c.to(\"cuda\")"
      ],
      "metadata": {
        "colab": {
          "base_uri": "https://localhost:8080/"
        },
        "id": "zkK-v9dSVxRk",
        "outputId": "0e5c6b1f-55a6-4e70-c088-96855c7e0a55"
      },
      "execution_count": 100,
      "outputs": [
        {
          "output_type": "execute_result",
          "data": {
            "text/plain": [
              "tensor([-1.2550+1.0104j, -0.2099-0.6871j,  1.0479-0.7040j,  0.3967-0.5999j],\n",
              "       device='cuda:0')"
            ]
          },
          "metadata": {},
          "execution_count": 100
        }
      ]
    },
    {
      "cell_type": "code",
      "source": [
        "c.real"
      ],
      "metadata": {
        "colab": {
          "base_uri": "https://localhost:8080/"
        },
        "id": "hAMcDyDPVzmX",
        "outputId": "3ccea592-2a3a-49e8-b459-491366be6312"
      },
      "execution_count": 101,
      "outputs": [
        {
          "output_type": "execute_result",
          "data": {
            "text/plain": [
              "tensor([-1.2550, -0.2099,  1.0479,  0.3967])"
            ]
          },
          "metadata": {},
          "execution_count": 101
        }
      ]
    },
    {
      "cell_type": "code",
      "source": [
        "c.imag"
      ],
      "metadata": {
        "colab": {
          "base_uri": "https://localhost:8080/"
        },
        "id": "_9p7FK3MV1G-",
        "outputId": "9b6621aa-51f4-48a9-f721-0a0e05cb0855"
      },
      "execution_count": 102,
      "outputs": [
        {
          "output_type": "execute_result",
          "data": {
            "text/plain": [
              "tensor([ 1.0104, -0.6871, -0.7040, -0.5999])"
            ]
          },
          "metadata": {},
          "execution_count": 102
        }
      ]
    },
    {
      "cell_type": "code",
      "source": [
        "c.abs()"
      ],
      "metadata": {
        "colab": {
          "base_uri": "https://localhost:8080/"
        },
        "id": "VqJSMBo6V51v",
        "outputId": "cff5e6c2-6a7b-4939-ad52-24a3582298c5"
      },
      "execution_count": 103,
      "outputs": [
        {
          "output_type": "execute_result",
          "data": {
            "text/plain": [
              "tensor([1.6112, 0.7185, 1.2624, 0.7192])"
            ]
          },
          "metadata": {},
          "execution_count": 103
        }
      ]
    },
    {
      "cell_type": "code",
      "source": [
        "c.abs_"
      ],
      "metadata": {
        "colab": {
          "base_uri": "https://localhost:8080/"
        },
        "id": "U2HFx1sxV2Wr",
        "outputId": "8d141172-b3ba-42eb-8756-b1c4fd5e817e"
      },
      "execution_count": 106,
      "outputs": [
        {
          "output_type": "execute_result",
          "data": {
            "text/plain": [
              "<function Tensor.abs_>"
            ]
          },
          "metadata": {},
          "execution_count": 106
        }
      ]
    },
    {
      "cell_type": "code",
      "source": [
        "c.absolute"
      ],
      "metadata": {
        "colab": {
          "base_uri": "https://localhost:8080/"
        },
        "id": "o-4MguxNV88j",
        "outputId": "0b50aeb1-1529-41a7-d1d2-86c331af9803"
      },
      "execution_count": 107,
      "outputs": [
        {
          "output_type": "execute_result",
          "data": {
            "text/plain": [
              "<function Tensor.absolute>"
            ]
          },
          "metadata": {},
          "execution_count": 107
        }
      ]
    },
    {
      "cell_type": "code",
      "source": [
        "c.acos"
      ],
      "metadata": {
        "colab": {
          "base_uri": "https://localhost:8080/"
        },
        "id": "RCHU-S9sWBef",
        "outputId": "d05a886c-bf76-4fa6-c39d-706cccd6cced"
      },
      "execution_count": 108,
      "outputs": [
        {
          "output_type": "execute_result",
          "data": {
            "text/plain": [
              "<function Tensor.acos>"
            ]
          },
          "metadata": {},
          "execution_count": 108
        }
      ]
    },
    {
      "cell_type": "code",
      "source": [],
      "metadata": {
        "id": "WDe7LPT0WHVJ"
      },
      "execution_count": null,
      "outputs": []
    }
  ]
}